{
 "cells": [
  {
   "cell_type": "code",
   "execution_count": 39,
   "metadata": {
    "collapsed": true,
    "pycharm": {
     "name": "#%%\n"
    }
   },
   "outputs": [],
   "source": [
    "import numpy as np\n",
    "from copy import deepcopy\n",
    "\n",
    "\n",
    "def mul_matrix_by_vector(matrix, vector):\n",
    "    assert len(matrix[0]) == len(vector)\n",
    "    return np.array([sum(matrix[i][j] * vector[j] for j in range(len(vector))) for i in range(len(matrix))])\n",
    "\n",
    "def gauss(A, b):\n",
    "    n = len(A)\n",
    "    A = deepcopy(A)\n",
    "    b = deepcopy(b)\n",
    "\n",
    "    for i in range(n - 1):\n",
    "        if A[i][i] == 0:\n",
    "            for j in range(i + 1, n):\n",
    "                if A[j][i] != 0:\n",
    "                    A[i], A[j] = A[j], A[i]\n",
    "                    break\n",
    "\n",
    "        for j in range(i + 1, n):\n",
    "            f = A[j][i] / A[i][i]\n",
    "            A[j] -= f * A[i]\n",
    "            b[j] -= f * b[i]\n",
    "\n",
    "    x = np.zeros(shape=(n, ))\n",
    "\n",
    "    for i in range(n - 1, -1, -1):\n",
    "        x[i] = b[i] / A[i][i]\n",
    "        for j in range(i - 1, -1, -1):\n",
    "            b[j] -= A[j][i] * x[i]\n",
    "\n",
    "    return np.array(x)\n",
    "\n",
    "def norm(vector):\n",
    "    return max(abs(vector))\n",
    "\n",
    "def norm_matrix(matrix):\n",
    "    return max([sum(abs(matrix[i][j]) for j in range(len(matrix[i])) if j != i) / abs(matrix[i][i]) for i in range(len(matrix))])\n",
    "\n",
    "def generate_matrix(n, a = -100, b = 100, diag=None):\n",
    "    A = np.random.uniform(a, b, (n, n))\n",
    "    if diag is not None:\n",
    "        for i in range(len(A)):\n",
    "            A[i][i] = abs(A[i][i])\n",
    "            A[i][i] += diag * sum(abs(A[i][j]) for j in range(n) if j != i)\n",
    "    return A\n",
    "\n",
    "def check_diag_dom(A):\n",
    "    for i in range(len(A)):\n",
    "        s = sum(abs(A[i][j]) for j in range(len(A[i])) if j != i)\n",
    "        if A[i][i] < s:\n",
    "            return False\n",
    "    return True\n",
    "\n",
    "def jacobi(A, b, delta=1e-6):\n",
    "    n = len(A)\n",
    "    x_prev = np.zeros(shape=(n, ))\n",
    "    difference = np.array([1] * n)\n",
    "    x_k = None\n",
    "    i = 0\n",
    "    while norm(difference) > delta:\n",
    "        x_k = np.array([sum([b[i]] + [A[i][j] * x_prev[j] * -1 for j in range(n) if j != i]) / A[i][i] for i in range(n)])\n",
    "        difference = x_k - x_prev\n",
    "        x_prev = deepcopy(x_k)\n",
    "        i += 1\n",
    "    return x_k, i"
   ]
  },
  {
   "cell_type": "code",
   "execution_count": 40,
   "outputs": [
    {
     "name": "stdout",
     "output_type": "stream",
     "text": [
      "Matrix has diagonal dominance\n",
      "||P|| =  0.1966750953124776 < 1\n",
      "Iterations: 12\n",
      "Gauss:  [-71.21217947  80.40769523 -85.27855533]  norm dif:  1.4210854715202004e-14\n",
      "Jacobi [-71.21217933  80.4076951  -85.27855519]  norm dif:  1.3692141465071472e-07\n",
      "Real:  [-71.21217947  80.40769523 -85.27855533]\n"
     ]
    }
   ],
   "source": [
    "n = 3\n",
    "A = generate_matrix(n=n, diag=5)\n",
    "\n",
    "\n",
    "if check_diag_dom(A):\n",
    "    print('Matrix has diagonal dominance')\n",
    "else:\n",
    "    print('Matrix has not diagonal dominance')\n",
    "\n",
    "print(\"||P|| = \", norm_matrix(A), \"< 1\")\n",
    "\n",
    "x = np.random.uniform(-100, 100, size=(n, ))\n",
    "\n",
    "b = mul_matrix_by_vector(matrix=A, vector=x)\n",
    "\n",
    "gauss_answer = gauss(A, b)\n",
    "jacobi_answer, i = jacobi(A, b)\n",
    "\n",
    "print(\"Iterations:\",  i)\n",
    "print(\"Gauss: \", gauss_answer, \" norm dif: \", norm(gauss_answer - x))\n",
    "print(\"Jacobi\", jacobi_answer, \" norm dif: \", norm(jacobi_answer - x))\n",
    "print(\"Real: \", x)"
   ],
   "metadata": {
    "collapsed": false,
    "pycharm": {
     "name": "#%%\n"
    }
   }
  },
  {
   "cell_type": "code",
   "execution_count": 41,
   "outputs": [
    {
     "name": "stdout",
     "output_type": "stream",
     "text": [
      "Matrix has diagonal dominance\n",
      "||P|| =  0.199914528104985 < 1\n",
      "Iterations: 8\n",
      "Gauss:  [ 92.99712816 -59.98729158 -65.75534059 -89.82607162  64.18893708\n",
      "  -5.85685316  80.65746048 -90.96902217  43.37208238 -22.21008434\n",
      "  26.17764244  11.6501904  -69.05961844   7.25626847  52.34884045\n",
      " -61.70161281  80.5312083  -89.22761916  -5.20805443 -92.55709739]  norm dif:  4.973799150320701e-14\n",
      "Jacobi [ 92.99712816 -59.98729158 -65.75534059 -89.82607162  64.18893708\n",
      "  -5.85685316  80.65746048 -90.96902217  43.37208238 -22.21008435\n",
      "  26.17764244  11.6501904  -69.05961844   7.25626847  52.34884045\n",
      " -61.70161282  80.5312083  -89.22761916  -5.20805443 -92.55709739]  norm dif:  4.94116392246724e-09\n",
      "Real:  [ 92.99712816 -59.98729158 -65.75534059 -89.82607162  64.18893708\n",
      "  -5.85685316  80.65746048 -90.96902217  43.37208238 -22.21008434\n",
      "  26.17764244  11.6501904  -69.05961844   7.25626847  52.34884045\n",
      " -61.70161281  80.5312083  -89.22761916  -5.20805443 -92.55709739]\n"
     ]
    }
   ],
   "source": [
    "n = 20\n",
    "A = generate_matrix(n=n, diag=5)\n",
    "\n",
    "\n",
    "if check_diag_dom(A):\n",
    "    print('Matrix has diagonal dominance')\n",
    "else:\n",
    "    print('Matrix has not diagonal dominance')\n",
    "\n",
    "print(\"||P|| = \", norm_matrix(A), \"< 1\")\n",
    "\n",
    "x = np.random.uniform(-100, 100, size=(n, ))\n",
    "\n",
    "b = mul_matrix_by_vector(matrix=A, vector=x)\n",
    "\n",
    "gauss_answer = gauss(A, b)\n",
    "jacobi_answer, i = jacobi(A, b)\n",
    "\n",
    "print(\"Iterations:\",  i)\n",
    "print(\"Gauss: \", gauss_answer, \" norm dif: \", norm(gauss_answer - x))\n",
    "print(\"Jacobi\", jacobi_answer, \" norm dif: \", norm(jacobi_answer - x))\n",
    "print(\"Real: \", x)"
   ],
   "metadata": {
    "collapsed": false,
    "pycharm": {
     "name": "#%%\n"
    }
   }
  },
  {
   "cell_type": "code",
   "execution_count": 42,
   "outputs": [
    {
     "name": "stdout",
     "output_type": "stream",
     "text": [
      "Matrix has diagonal dominance\n",
      "||P|| =  0.1999893635399278 < 1\n",
      "Iterations: 7\n",
      "Gauss:  [ 44.26357989 -26.25299416  82.02068919  96.18375987  21.88023469\n",
      "  83.76565185  29.01401725  96.57462534 -50.97925     83.80785619\n",
      " -92.81428523 -46.36730897  99.7332464  -28.36980105   6.13337229\n",
      " -42.4779679   51.06873943  18.78256645  15.87008278  38.69301102\n",
      "  58.09875724  22.09332446 -19.32294913  82.99144642   1.3486885\n",
      " -10.79109403 -31.85372802  -0.62618135  48.27478437  11.28634538\n",
      "  41.94598211   5.72378369 -45.40745809  -8.66132328   3.73665306\n",
      " -37.95229936 -39.41616582  36.87781343  96.81325234 -47.2597628\n",
      "  91.45817101  19.69886833 -94.39904479   1.34532584 -42.9858625\n",
      "   4.75202894  80.7529566  -81.11698905  29.17616177 -53.83494848]  norm dif:  1.2789769243681803e-13\n",
      "Jacobi [ 44.26357988 -26.25299417  82.02068919  96.18375986  21.88023469\n",
      "  83.76565186  29.01401724  96.57462534 -50.97925     83.80785619\n",
      " -92.81428523 -46.36730896  99.7332464  -28.36980106   6.13337229\n",
      " -42.47796789  51.06873942  18.78256645  15.87008277  38.69301102\n",
      "  58.09875723  22.09332445 -19.32294913  82.99144642   1.3486885\n",
      " -10.79109403 -31.85372802  -0.62618135  48.27478435  11.28634539\n",
      "  41.94598211   5.72378368 -45.40745809  -8.66132327   3.73665307\n",
      " -37.95229937 -39.41616582  36.87781343  96.81325234 -47.2597628\n",
      "  91.458171    19.69886834 -94.3990448    1.34532585 -42.9858625\n",
      "   4.75202894  80.7529566  -81.11698904  29.17616177 -53.83494848]  norm dif:  1.2252868941686756e-08\n",
      "Real:  [ 44.26357989 -26.25299416  82.02068919  96.18375987  21.88023469\n",
      "  83.76565185  29.01401725  96.57462534 -50.97925     83.80785619\n",
      " -92.81428523 -46.36730897  99.7332464  -28.36980105   6.13337229\n",
      " -42.4779679   51.06873943  18.78256645  15.87008278  38.69301102\n",
      "  58.09875724  22.09332446 -19.32294913  82.99144642   1.3486885\n",
      " -10.79109403 -31.85372802  -0.62618135  48.27478437  11.28634538\n",
      "  41.94598211   5.72378369 -45.40745809  -8.66132328   3.73665306\n",
      " -37.95229936 -39.41616582  36.87781343  96.81325234 -47.2597628\n",
      "  91.45817101  19.69886833 -94.39904479   1.34532584 -42.9858625\n",
      "   4.75202894  80.7529566  -81.11698905  29.17616177 -53.83494848]\n"
     ]
    }
   ],
   "source": [
    "n = 50\n",
    "A = generate_matrix(n=n, diag=5)\n",
    "\n",
    "\n",
    "if check_diag_dom(A):\n",
    "    print('Matrix has diagonal dominance')\n",
    "else:\n",
    "    print('Matrix has not diagonal dominance')\n",
    "\n",
    "print(\"||P|| = \", norm_matrix(A), \"< 1\")\n",
    "\n",
    "x = np.random.uniform(-100, 100, size=(n, ))\n",
    "\n",
    "b = mul_matrix_by_vector(matrix=A, vector=x)\n",
    "\n",
    "gauss_answer = gauss(A, b)\n",
    "jacobi_answer, i = jacobi(A, b)\n",
    "\n",
    "print(\"Iterations:\",  i)\n",
    "print(\"Gauss: \", gauss_answer, \" norm dif: \", norm(gauss_answer - x))\n",
    "print(\"Jacobi\", jacobi_answer, \" norm dif: \", norm(jacobi_answer - x))\n",
    "print(\"Real: \", x)"
   ],
   "metadata": {
    "collapsed": false,
    "pycharm": {
     "name": "#%%\n"
    }
   }
  }
 ],
 "metadata": {
  "kernelspec": {
   "display_name": "Python 3",
   "language": "python",
   "name": "python3"
  },
  "language_info": {
   "codemirror_mode": {
    "name": "ipython",
    "version": 2
   },
   "file_extension": ".py",
   "mimetype": "text/x-python",
   "name": "python",
   "nbconvert_exporter": "python",
   "pygments_lexer": "ipython2",
   "version": "2.7.6"
  }
 },
 "nbformat": 4,
 "nbformat_minor": 0
}