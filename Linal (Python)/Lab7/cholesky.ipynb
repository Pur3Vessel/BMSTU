{
 "cells": [
  {
   "cell_type": "code",
   "execution_count": 1,
   "metadata": {
    "collapsed": true,
    "pycharm": {
     "name": "#%%\n"
    }
   },
   "outputs": [],
   "source": [
    "import numpy as np\n",
    "import random\n",
    "import math"
   ]
  },
  {
   "cell_type": "code",
   "execution_count": 2,
   "outputs": [],
   "source": [
    "def is_sym_matrix(A):\n",
    "    for i in range(len(A)):\n",
    "        for j in range(i, len(A)):\n",
    "            if A[i][j] != A[j][i]:\n",
    "                return False\n",
    "    return True\n",
    "\n",
    "def generate_sim_matrix(n=4, a=-5, b=5):\n",
    "    A = np.random.uniform(a, b, (n, n))\n",
    "    return A @ A.T\n",
    "\n",
    "\n",
    "def cholesky(A):\n",
    "    assert is_sym_matrix(A)\n",
    "    n = len(A)\n",
    "    l = np.zeros(shape=(n, n))\n",
    "    l[0][0] = np.sqrt(A[0][0])\n",
    "\n",
    "    for i in range(1, n):\n",
    "        l[i][0] = A[i][0] / l[0][0]\n",
    "\n",
    "    for i in range(1, n):\n",
    "        l[i][i] = math.sqrt(A[i][i] - sum(l[i][p] ** 2 for p in range(i)))\n",
    "        for j in range(i + 1, n):\n",
    "            l[j][i] = (A[j][i] - sum(l[i][p] * l[j][p] for p in range(i))) / l[i][i]\n",
    "\n",
    "\n",
    "    return l\n",
    "\n",
    "def lu(A):\n",
    "    n = len(A)\n",
    "    l = np.zeros(shape=(n, n))\n",
    "    u = np.zeros(shape=(n, n))\n",
    "\n",
    "    for i in range(n):\n",
    "        l[i][i] = 1\n",
    "\n",
    "    for i in range(n):\n",
    "        for j in range(n):\n",
    "            if j >= i:\n",
    "                u[i][j] = A[i][j] - sum(l[i][p] * u[p][j] for p in range(i))\n",
    "            else:\n",
    "                l[i][j] = (A[i][j] - sum(l[i][p] * u[p][j] for p in range(j))) / u[j][j]\n",
    "\n",
    "    return l, u"
   ],
   "metadata": {
    "collapsed": false,
    "pycharm": {
     "name": "#%%\n"
    }
   }
  },
  {
   "cell_type": "code",
   "execution_count": 3,
   "outputs": [
    {
     "name": "stdout",
     "output_type": "stream",
     "text": [
      "Cholesky error: 1.5888218580782548e-14\n",
      "LU error:  0.0\n"
     ]
    }
   ],
   "source": [
    "A = generate_sim_matrix(n=4)\n",
    "\n",
    "\n",
    "L = cholesky(A)\n",
    "\n",
    "\n",
    "A_err = L @ L.T\n",
    "err = np.linalg.norm(A - A_err)\n",
    "print(\"Cholesky error:\" ,err)\n",
    "\n",
    "L, U = lu(A)\n",
    "A_err = L @ U\n",
    "err = np.linalg.norm(A - A_err)\n",
    "print(\"LU error: \", err)"
   ],
   "metadata": {
    "collapsed": false,
    "pycharm": {
     "name": "#%%\n"
    }
   }
  },
  {
   "cell_type": "code",
   "execution_count": 4,
   "outputs": [
    {
     "name": "stdout",
     "output_type": "stream",
     "text": [
      "Cholesky error: 3.4446268434556946e-14\n",
      "LU error:  6.466036496704424e-15\n"
     ]
    }
   ],
   "source": [
    "A = generate_sim_matrix(n=10)\n",
    "\n",
    "\n",
    "L = cholesky(A)\n",
    "\n",
    "\n",
    "A_err = L @ L.T\n",
    "err = np.linalg.norm(A - A_err)\n",
    "print(\"Cholesky error:\" ,err)\n",
    "\n",
    "L, U = lu(A)\n",
    "A_err = L @ U\n",
    "err = np.linalg.norm(A - A_err)\n",
    "print(\"LU error: \", err)"
   ],
   "metadata": {
    "collapsed": false,
    "pycharm": {
     "name": "#%%\n"
    }
   }
  },
  {
   "cell_type": "code",
   "execution_count": 5,
   "outputs": [
    {
     "name": "stdout",
     "output_type": "stream",
     "text": [
      "Cholesky error: 5.346841250969093e-13\n",
      "LU error:  2.94483559369858e-13\n"
     ]
    }
   ],
   "source": [
    "A = generate_sim_matrix(n=50)\n",
    "\n",
    "\n",
    "L = cholesky(A)\n",
    "\n",
    "\n",
    "A_err = L @ L.T\n",
    "err = np.linalg.norm(A - A_err)\n",
    "print(\"Cholesky error:\" ,err)\n",
    "\n",
    "L, U = lu(A)\n",
    "A_err = L @ U\n",
    "err = np.linalg.norm(A - A_err)\n",
    "print(\"LU error: \", err)"
   ],
   "metadata": {
    "collapsed": false,
    "pycharm": {
     "name": "#%%\n"
    }
   }
  }
 ],
 "metadata": {
  "kernelspec": {
   "display_name": "Python 3",
   "language": "python",
   "name": "python3"
  },
  "language_info": {
   "codemirror_mode": {
    "name": "ipython",
    "version": 2
   },
   "file_extension": ".py",
   "mimetype": "text/x-python",
   "name": "python",
   "nbconvert_exporter": "python",
   "pygments_lexer": "ipython2",
   "version": "2.7.6"
  }
 },
 "nbformat": 4,
 "nbformat_minor": 0
}