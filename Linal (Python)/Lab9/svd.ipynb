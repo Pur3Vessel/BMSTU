{
 "cells": [
  {
   "cell_type": "code",
   "execution_count": 14,
   "metadata": {
    "collapsed": true,
    "pycharm": {
     "name": "#%%\n"
    }
   },
   "outputs": [],
   "source": [
    "import numpy as np\n",
    "\n",
    "# Через правые сингулярные векторы\n",
    "def svd_decomposition(A):\n",
    "    ATA = np.dot(A.T, A)\n",
    "\n",
    "    eigenval, eigenvec = np.linalg.eig(ATA)\n",
    "    singular = np.sqrt(eigenval)\n",
    "\n",
    "    S = np.zeros(shape=(len(singular), len(singular)))\n",
    "    for i in range(len(S)):\n",
    "        S[i][i] = singular[i]\n",
    "    V = eigenvec\n",
    "    U = A @ V @ np.linalg.inv(S)\n",
    "\n",
    "    return U, S, V.T"
   ]
  },
  {
   "cell_type": "code",
   "execution_count": 19,
   "outputs": [
    {
     "name": "stdout",
     "output_type": "stream",
     "text": [
      "A: [[3 1 0]\n",
      " [1 2 2]\n",
      " [0 1 1]]\n",
      "A_compute: [[ 3.00000000e+00  1.00000000e+00 -1.75207071e-16]\n",
      " [ 1.00000000e+00  2.00000000e+00  2.00000000e+00]\n",
      " [-1.11022302e-16  1.00000000e+00  1.00000000e+00]]\n",
      "----------------\n",
      "\n",
      "U: [[-0.67988662 -0.71823656 -0.14795412]\n",
      " [-0.68742382  0.55397543  0.46963786]\n",
      " [-0.25534813  0.42100768 -0.8703734 ]]\n",
      "S: [[3.92823172 0.         0.        ]\n",
      " [0.         2.35739994 0.        ]\n",
      " [0.         0.         0.10798654]]\n",
      "V_T: [[-0.69422679 -0.58807183 -0.41499481]\n",
      " [-0.67902533  0.34390515  0.64857834]\n",
      " [ 0.2386918  -0.73205244  0.63806383]]\n",
      "----------------\n",
      "\n",
      "U_np: [[-0.67988662  0.71823656  0.14795412]\n",
      " [-0.68742382 -0.55397543 -0.46963786]\n",
      " [-0.25534813 -0.42100768  0.8703734 ]]\n",
      "S_np: [3.92823172 2.35739994 0.10798654]\n",
      "V_np: [[-0.69422679 -0.58807183 -0.41499481]\n",
      " [ 0.67902533 -0.34390515 -0.64857834]\n",
      " [-0.2386918   0.73205244 -0.63806383]]\n",
      "ort\n",
      "1.3322676295501878e-15\n",
      "-3.3306690738754696e-16\n",
      "-1.1657341758564144e-15\n",
      "3.3306690738754696e-16\n",
      "2.3897550605056495e-14\n",
      "-1.6653345369377348e-16\n"
     ]
    }
   ],
   "source": [
    "A = np.array([[3, 1, 0], [1, 2, 2], [0, 1, 1]])\n",
    "\n",
    "print(f\"A: {A}\")\n",
    "\n",
    "U, S, V_T = svd_decomposition(A)\n",
    "\n",
    "A_compute = U @ S @ V_T\n",
    "\n",
    "print(f\"A_compute: {A_compute}\")\n",
    "\n",
    "print(\"----------------\\n\")\n",
    "\n",
    "print(f\"U: {U}\")\n",
    "print(f\"S: {S}\")\n",
    "print(f\"V_T: {V_T}\")\n",
    "\n",
    "print(\"----------------\\n\")\n",
    "\n",
    "U_np, S_np, V_np = np.linalg.svd(A)\n",
    "print(f\"U_np: {U_np}\")\n",
    "print(f\"S_np: {S_np}\")\n",
    "print(f\"V_np: {V_np}\")\n",
    "\n",
    "\n",
    "print(\"ort\")\n",
    "for i in range(len(U)):\n",
    "    for j in range(i + 1, len(U)):\n",
    "        print(np.dot(U[i], U[j]))\n",
    "        print(np.dot(V_T[i], V_T[j]))"
   ],
   "metadata": {
    "collapsed": false,
    "pycharm": {
     "name": "#%%\n"
    }
   }
  }
 ],
 "metadata": {
  "kernelspec": {
   "display_name": "Python 3",
   "language": "python",
   "name": "python3"
  },
  "language_info": {
   "codemirror_mode": {
    "name": "ipython",
    "version": 2
   },
   "file_extension": ".py",
   "mimetype": "text/x-python",
   "name": "python",
   "nbconvert_exporter": "python",
   "pygments_lexer": "ipython2",
   "version": "2.7.6"
  }
 },
 "nbformat": 4,
 "nbformat_minor": 0
}