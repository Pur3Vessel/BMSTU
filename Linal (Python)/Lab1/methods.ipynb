{
 "cells": [
  {
   "cell_type": "code",
   "execution_count": 1,
   "metadata": {
    "collapsed": true,
    "pycharm": {
     "name": "#%%\n"
    }
   },
   "outputs": [],
   "source": [
    "import numpy as np\n",
    "import matplotlib.pyplot as plt\n",
    "import pandas as pd"
   ]
  },
  {
   "cell_type": "markdown",
   "source": [
    "#### Операции с векторами, матрицами. График произвольной функции от 1-й переменной"
   ],
   "metadata": {
    "collapsed": false,
    "pycharm": {
     "name": "#%% md\n"
    }
   }
  },
  {
   "cell_type": "code",
   "execution_count": 2,
   "outputs": [],
   "source": [
    "def scalar(vector1, vector2):\n",
    "    assert len(vector1) == len(vector2)\n",
    "    return sum(x * y for x, y in zip(vector1, vector2))\n",
    "\n",
    "\n",
    "def norm(vector):\n",
    "    return np.sqrt(sum(x**2 for x in vector))\n",
    "\n",
    "def mul_matrix(matrix1, matrix2):\n",
    "    assert len(matrix1[0]) == len(matrix2)\n",
    "    return [\n",
    "        [sum(matrix1[i][k] * matrix2[k][j] for k in range(len(matrix2[0])))\n",
    "         for j in range(len(matrix2[0]))]\n",
    "        for i in range(len(matrix1))\n",
    "    ]\n",
    "\n",
    "def mul_matrix_by_vector(matrix, vector):\n",
    "    assert len(matrix[0]) == len(vector)\n",
    "    return np.array([sum(matrix[i][j] * vector[j] for j in range(len(vector))) for i in range(len(matrix))])\n",
    "\n",
    "def transpose_matrix(matrix):\n",
    "    return [list(row) for row in zip(*matrix)]\n",
    "\n",
    "def plot(function, x1, x2, step, x = None):\n",
    "    x = [x for x in range(x1, x2 + step, step)] if x is None else x\n",
    "    plt.plot(x, function(np.array(x)))\n",
    "    plt.show()"
   ],
   "metadata": {
    "collapsed": false,
    "pycharm": {
     "name": "#%%\n"
    }
   }
  },
  {
   "cell_type": "markdown",
   "source": [
    "#### Тестирование методов"
   ],
   "metadata": {
    "collapsed": false,
    "pycharm": {
     "name": "#%% md\n"
    }
   }
  },
  {
   "cell_type": "code",
   "execution_count": 3,
   "outputs": [
    {
     "name": "stdout",
     "output_type": "stream",
     "text": [
      "32\n",
      "8.774964387392123\n"
     ]
    }
   ],
   "source": [
    "vector1 = [1, 2, 3]\n",
    "vector2 = [4, 5, 6]\n",
    "\n",
    "print(scalar(vector1, vector2))\n",
    "print(norm(vector2))"
   ],
   "metadata": {
    "collapsed": false,
    "pycharm": {
     "name": "#%%\n"
    }
   }
  },
  {
   "cell_type": "code",
   "execution_count": 4,
   "outputs": [
    {
     "name": "stdout",
     "output_type": "stream",
     "text": [
      "[[32, 32, 23], [71, 74, 65], [110, 116, 107]]\n",
      "[14 32 50]\n",
      "[[1, 4, 7], [2, 5, 8], [3, 6, 9]]\n",
      "[[2, 9, 5], [3, 4, 6]]\n"
     ]
    }
   ],
   "source": [
    "matrix1 = [[1, 2, 3], [4, 5, 6], [7, 8, 9]]\n",
    "matrix2 = [[3, 4, 6], [1, 2, 7], [9, 8, 1]]\n",
    "matrix3 = [[2, 3], [9, 4], [5, 6]]\n",
    "\n",
    "print(mul_matrix(matrix1, matrix2))\n",
    "print(mul_matrix_by_vector(matrix1, vector1))\n",
    "print(transpose_matrix(matrix1))\n",
    "print(transpose_matrix(matrix3))"
   ],
   "metadata": {
    "collapsed": false,
    "pycharm": {
     "name": "#%%\n"
    }
   }
  },
  {
   "cell_type": "code",
   "execution_count": 5,
   "outputs": [
    {
     "data": {
      "text/plain": "<Figure size 640x480 with 1 Axes>",
      "image/png": "[encoded data removed]"
     },
     "metadata": {},
     "output_type": "display_data"
    }
   ],
   "source": [
    "def f(x):\n",
    "    return x**2\n",
    "\n",
    "plot(f, -10, 10, 1)"
   ],
   "metadata": {
    "collapsed": false,
    "pycharm": {
     "name": "#%%\n"
    }
   }
  },
  {
   "cell_type": "markdown",
   "source": [
    "#### Оценка погрешности"
   ],
   "metadata": {
    "collapsed": false,
    "pycharm": {
     "name": "#%% md\n"
    }
   }
  },
  {
   "cell_type": "code",
   "execution_count": 6,
   "outputs": [
    {
     "data": {
      "text/plain": "  Way   Sqrt         S         V  Error estimation\n0  S1    7/5  0.004096  0.017157         21.320344\n1  S1  17/12  0.005233  0.021919          3.532470\n2  S2    7/5  0.008000  0.033510         42.640687\n3  S2  17/12  0.004630  0.019393          8.831175\n4  S3    7/5  1.000000  4.188790         99.494937\n5  S3  17/12 -0.166667 -0.698132        103.030380",
      "text/html": "<div>\n<style scoped>\n    .dataframe tbody tr th:only-of-type {\n        vertical-align: middle;\n    }\n\n    .dataframe tbody tr th {\n        vertical-align: top;\n    }\n\n    .dataframe thead th {\n        text-align: right;\n    }\n</style>\n<table border=\"1\" class=\"dataframe\">\n  <thead>\n    <tr style=\"text-align: right;\">\n      <th></th>\n      <th>Way</th>\n      <th>Sqrt</th>\n      <th>S</th>\n      <th>V</th>\n      <th>Error estimation</th>\n    </tr>\n  </thead>\n  <tbody>\n    <tr>\n      <th>0</th>\n      <td>S1</td>\n      <td>7/5</td>\n      <td>0.004096</td>\n      <td>0.017157</td>\n      <td>21.320344</td>\n    </tr>\n    <tr>\n      <th>1</th>\n      <td>S1</td>\n      <td>17/12</td>\n      <td>0.005233</td>\n      <td>0.021919</td>\n      <td>3.532470</td>\n    </tr>\n    <tr>\n      <th>2</th>\n      <td>S2</td>\n      <td>7/5</td>\n      <td>0.008000</td>\n      <td>0.033510</td>\n      <td>42.640687</td>\n    </tr>\n    <tr>\n      <th>3</th>\n      <td>S2</td>\n      <td>17/12</td>\n      <td>0.004630</td>\n      <td>0.019393</td>\n      <td>8.831175</td>\n    </tr>\n    <tr>\n      <th>4</th>\n      <td>S3</td>\n      <td>7/5</td>\n      <td>1.000000</td>\n      <td>4.188790</td>\n      <td>99.494937</td>\n    </tr>\n    <tr>\n      <th>5</th>\n      <td>S3</td>\n      <td>17/12</td>\n      <td>-0.166667</td>\n      <td>-0.698132</td>\n      <td>103.030380</td>\n    </tr>\n  </tbody>\n</table>\n</div>"
     },
     "execution_count": 6,
     "metadata": {},
     "output_type": "execute_result"
    }
   ],
   "source": [
    "def S1(sqrt):\n",
    "    return (sqrt - 1) ** 6\n",
    "\n",
    "def S2(sqrt):\n",
    "    return (3 - 2 * sqrt) ** 3\n",
    "\n",
    "def S3(sqrt):\n",
    "    return 99 - 70 * sqrt\n",
    "\n",
    "def S1_derivative(sqrt):\n",
    "    return  6 * (sqrt - 1) ** 5\n",
    "\n",
    "def S2_derivative(sqrt):\n",
    "    return -6 * (3 - 2 * sqrt) ** 2\n",
    "\n",
    "def S3_derivative(sqrt):\n",
    "    return -70\n",
    "\n",
    "def V(S):\n",
    "    return 4/3 * np.pi * S\n",
    "\n",
    "R = 3\n",
    "\n",
    "ways = {\n",
    "    \"S1\": [S1, S1_derivative],\n",
    "    \"S2\": [S2, S2_derivative],\n",
    "    \"S3\": [S3, S3_derivative]\n",
    "}\n",
    "\n",
    "sqrts = {\n",
    "    \"7/5\": 7/5,\n",
    "    \"17/12\": 17/12\n",
    "}\n",
    "\n",
    "S_list = []\n",
    "V_list = []\n",
    "estimation_list = []\n",
    "for way, func in ways.items():\n",
    "    for sqrt, value in sqrts.items():\n",
    "        S = func[0](value)\n",
    "        V_calc = V(S)\n",
    "        estimation =  abs(func[1](value) * (value - np.sqrt(2)) / S)\n",
    "        S_list.append(S)\n",
    "        V_list.append(V_calc)\n",
    "        estimation_list.append(estimation * 100)\n",
    "\n",
    "\n",
    "table = pd.DataFrame(\n",
    "    {\n",
    "        \"Way\": sorted(list(ways.keys()) * 2),\n",
    "        \"Sqrt\":  list(sqrts.keys()) * 3,\n",
    "        \"S\": S_list,\n",
    "        \"V\": V_list,\n",
    "        \"Error estimation\": estimation_list\n",
    "    }\n",
    ")\n",
    "table"
   ],
   "metadata": {
    "collapsed": false,
    "pycharm": {
     "name": "#%%\n"
    }
   }
  }
 ],
 "metadata": {
  "kernelspec": {
   "display_name": "Python 3",
   "language": "python",
   "name": "python3"
  },
  "language_info": {
   "codemirror_mode": {
    "name": "ipython",
    "version": 2
   },
   "file_extension": ".py",
   "mimetype": "text/x-python",
   "name": "python",
   "nbconvert_exporter": "python",
   "pygments_lexer": "ipython2",
   "version": "2.7.6"
  }
 },
 "nbformat": 4,
 "nbformat_minor": 0
}