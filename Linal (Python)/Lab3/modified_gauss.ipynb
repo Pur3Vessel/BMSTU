{
 "cells": [
  {
   "cell_type": "code",
   "execution_count": 1,
   "outputs": [],
   "source": [
    "import numpy as np\n",
    "from copy import deepcopy\n",
    "import matplotlib.pyplot as plt\n",
    "\n",
    "def test_method(method, a = -10, b = 10, n = 100, A=None, x=None, debug=True):\n",
    "    if A is None:\n",
    "        A = generate_matrix(a, b, n)\n",
    "    if x is None:\n",
    "        x = np.random.uniform(a, b, size=n)\n",
    "    b = mul_matrix_by_vector(A, x)\n",
    "\n",
    "    x_method = method(A, b)\n",
    "\n",
    "    if debug:\n",
    "        x_np = np.linalg.solve(A, b)\n",
    "        print(f\"Method absolute error: {norm(x - x_method)}\")\n",
    "        print(f\"Numpy absolute error: {norm(x - x_np)}\")\n",
    "\n",
    "    return norm(x - x_method)\n",
    "\n",
    "\n",
    "def norm(vector):\n",
    "    return np.sqrt(sum(x**2 for x in vector))\n",
    "\n",
    "def mul_matrix_by_vector(matrix, vector):\n",
    "    assert len(matrix[0]) == len(vector)\n",
    "    return np.array([sum(matrix[i][j] * vector[j] for j in range(len(vector))) for i in range(len(matrix))])\n",
    "\n",
    "def get_diag_dom(A):\n",
    "    return max(abs(A[i][i]) - sum(abs(A[i][j]) if j != i else 0 for j in range(len(A))) for i in range(len(A)))\n",
    "\n",
    "def generate_matrix(a, b, n, diag=None):\n",
    "    A = np.random.uniform(a, b, (n, n))\n",
    "    if diag is not None:\n",
    "        for i in range(len(A)):\n",
    "            A[i][i] += diag * sum(abs(A[i][j]) if j != i else 0 for j in range(n))\n",
    "    return A\n",
    "\n",
    "\n",
    "def gauss(A, b):\n",
    "    n = len(A)\n",
    "    A = deepcopy(A)\n",
    "    b = deepcopy(b)\n",
    "\n",
    "    for i in range(n - 1):\n",
    "        if A[i][i] == 0:\n",
    "            for j in range(i + 1, n):\n",
    "                if A[j][i] != 0:\n",
    "                    A[i], A[j] = A[j], A[i]\n",
    "                    break\n",
    "\n",
    "        for j in range(i + 1, n):\n",
    "            f = A[j][i] / A[i][i]\n",
    "            A[j] -= f * A[i]\n",
    "            b[j] -= f * b[i]\n",
    "\n",
    "    x = np.zeros(shape=(n, ))\n",
    "\n",
    "    for i in range(n - 1, -1, -1):\n",
    "        x[i] = b[i] / A[i][i]\n",
    "        for j in range(i - 1, -1, -1):\n",
    "            b[j] -= A[j][i] * x[i]\n",
    "\n",
    "    return np.array(x)\n",
    "\n",
    "def gauss_column(A, b):\n",
    "    n = len(A)\n",
    "    A = deepcopy(A)\n",
    "    b = deepcopy(b)\n",
    "\n",
    "    for i in range(n - 1):\n",
    "        max_index = np.argmax(np.abs(A[i:, i])) + i\n",
    "        A[[i, max_index]] = A[[max_index , i]]\n",
    "        b[i], b[max_index] = b[max_index], b[i]\n",
    "        for j in range(i + 1, n):\n",
    "            f = A[j][i] / A[i][i]\n",
    "            A[j] -= f * A[i]\n",
    "            b[j] -= f * b[i]\n",
    "\n",
    "    x = np.zeros(shape=(n, ))\n",
    "\n",
    "    for i in range(n - 1, -1, -1):\n",
    "        x[i] = b[i] / A[i][i]\n",
    "        for j in range(i - 1, -1, -1):\n",
    "            b[j] -= A[j][i] * x[i]\n",
    "\n",
    "    return np.array(x)\n",
    "\n",
    "\n",
    "def gauss_row(A, b):\n",
    "    n = len(A)\n",
    "    A = deepcopy(A)\n",
    "    b = deepcopy(b)\n",
    "    x_i = [i for i in range(n)]\n",
    "\n",
    "    for i in range(n - 1):\n",
    "        max_index = np.argmax(np.abs(A[i, i:])) + i\n",
    "        x_i[i], x_i[max_index] = x_i[max_index], x_i[i]\n",
    "        for j in range(n):\n",
    "            A[j][i], A[j][max_index] = A[j][max_index], A[j][i]\n",
    "        for j in range(i + 1, n):\n",
    "            f = A[j][i] / A[i][i]\n",
    "            A[j] -= f * A[i]\n",
    "            b[j] -= f * b[i]\n",
    "\n",
    "    x = np.zeros(shape=(n, ))\n",
    "\n",
    "    for i in range(n - 1, -1, -1):\n",
    "        x[i] = b[i] / A[i][i]\n",
    "        for j in range(i - 1, -1, -1):\n",
    "            b[j] -= A[j][i] * x[i]\n",
    "\n",
    "    x_copy = deepcopy(x)\n",
    "\n",
    "    for i, order in enumerate(x_i):\n",
    "        x[order] = x_copy[i]\n",
    "\n",
    "    return np.array(x)\n",
    "\n",
    "\n",
    "def gauss_row_and_column(A, b):\n",
    "    n = len(A)\n",
    "    A = deepcopy(A)\n",
    "    b = deepcopy(b)\n",
    "    x_i = [i for i in range(n)]\n",
    "\n",
    "    for i in range(n - 1):\n",
    "        max_index_col = np.argmax(np.abs(A[i:, i])) + i\n",
    "        max_index_row = np.argmax(np.abs(A[i, i:])) + i\n",
    "        if A[max_index_col][i] > A[i][max_index_row]:\n",
    "            A[[i, max_index_col]] = A[[max_index_col , i]]\n",
    "            b[i], b[max_index_col] = b[max_index_col], b[i]\n",
    "        else:\n",
    "            x_i[i], x_i[max_index_row] = x_i[max_index_row], x_i[i]\n",
    "            for j in range(n):\n",
    "                A[j][i], A[j][max_index_row] = A[j][max_index_row], A[j][i]\n",
    "\n",
    "        for j in range(i + 1, n):\n",
    "            f = A[j][i] / A[i][i]\n",
    "            A[j] -= f * A[i]\n",
    "            b[j] -= f * b[i]\n",
    "\n",
    "    x = np.zeros(shape=(n, ))\n",
    "\n",
    "    for i in range(n - 1, -1, -1):\n",
    "        x[i] = b[i] / A[i][i]\n",
    "        for j in range(i - 1, -1, -1):\n",
    "            b[j] -= A[j][i] * x[i]\n",
    "\n",
    "    x_copy = deepcopy(x)\n",
    "\n",
    "    for i, order in enumerate(x_i):\n",
    "        x[order] = x_copy[i]\n",
    "\n",
    "    return np.array(x)"
   ],
   "metadata": {
    "collapsed": false,
    "pycharm": {
     "name": "#%%\n"
    }
   }
  },
  {
   "cell_type": "code",
   "execution_count": 2,
   "outputs": [
    {
     "name": "stdout",
     "output_type": "stream",
     "text": [
      "Classic\n",
      "Method absolute error: 3.94040033080556e-14\n",
      "Numpy absolute error: 2.395201647715659e-14\n",
      "Columns\n",
      "Method absolute error: 2.395201647715659e-14\n",
      "Numpy absolute error: 2.395201647715659e-14\n",
      "Rows\n",
      "Method absolute error: 2.7379099239862994e-14\n",
      "Numpy absolute error: 2.395201647715659e-14\n",
      "Columns and rows\n",
      "Method absolute error: 2.503103621450356e-14\n",
      "Numpy absolute error: 2.395201647715659e-14\n"
     ]
    },
    {
     "data": {
      "text/plain": "2.503103621450356e-14"
     },
     "execution_count": 2,
     "metadata": {},
     "output_type": "execute_result"
    }
   ],
   "source": [
    "n = 5\n",
    "A = generate_matrix(-10, 10, n)\n",
    "x = np.random.uniform(-10, 10, n)\n",
    "print(\"Classic\")\n",
    "test_method(gauss, A=A, x=x)\n",
    "print(\"Columns\")\n",
    "test_method(gauss_column, A=A, x=x)\n",
    "print(\"Rows\")\n",
    "test_method(gauss_row, A=A, x=x)\n",
    "print(\"Columns and rows\")\n",
    "test_method(gauss_row_and_column, A=A, x=x)"
   ],
   "metadata": {
    "collapsed": false,
    "pycharm": {
     "name": "#%%\n"
    }
   }
  },
  {
   "cell_type": "code",
   "execution_count": 9,
   "outputs": [
    {
     "name": "stdout",
     "output_type": "stream",
     "text": [
      "[1.8283242358490794e-13, 1.3557268532196462e-13, 1.1838956710871202e-13, 1.1625961044686886e-13]\n",
      "[1.8947289355176264e-13, 1.370089835797349e-13, 1.1797046396662474e-13, 1.1725454047414458e-13]\n"
     ]
    },
    {
     "data": {
      "text/plain": "<Figure size 800x400 with 1 Axes>",
      "image/png": "[encoded data removed]"
     },
     "metadata": {},
     "output_type": "display_data"
    }
   ],
   "source": [
    "dims = [10, 100, 300]\n",
    "coofs = [i * 0.1 for i in range(1, 22, 3)]\n",
    "\n",
    "for dim in dims:\n",
    "    x = []\n",
    "    y_classic = []\n",
    "    y_rows = []\n",
    "    y_columns = []\n",
    "    y_both = []\n",
    "    y_np = []\n",
    "    for coof in coofs:\n",
    "        A = generate_matrix(-10, 10, dim, diag=coof)\n",
    "        x_vec = np.random.uniform(-10, 10, dim)\n",
    "        x.append(get_diag_dom(A))\n",
    "        y_classic.append(test_method(gauss, A=A, x=x_vec, debug=False))\n",
    "        y_rows.append(test_method(gauss_row, A=A, x=x_vec, debug=False))\n",
    "        y_columns.append(test_method(gauss_column, A=A, x=x_vec, debug=False))\n",
    "        y_both.append(test_method(gauss_row_and_column, A=A, x=x_vec, debug=False))\n",
    "        y_np.append(test_method(np.linalg.solve, A=A, x=x_vec, debug=False))\n",
    "    plt.figure(figsize=(8, 4))\n",
    "    plt.title(f'Dim: {dim}')\n",
    "    plt.xlabel(\"diag_dom\")\n",
    "    plt.ylabel(\"Absolute error\")\n",
    "    plt.plot(x, y_classic, label='Classic')\n",
    "    plt.plot(x, y_rows, label='Rows', color='red')\n",
    "    plt.plot(x, y_columns, label='Columns', color='yellow')\n",
    "    plt.plot(x, y_both, label='Both', color='green')\n",
    "    plt.plot(x, y_np, label='Lib', color='black')\n",
    "    plt.legend()\n",
    "    plt.show()"
   ],
   "metadata": {
    "collapsed": false,
    "pycharm": {
     "name": "#%%\n"
    }
   }
  },
  {
   "cell_type": "code",
   "execution_count": null,
   "outputs": [],
   "source": [],
   "metadata": {
    "collapsed": false,
    "pycharm": {
     "name": "#%%\n"
    }
   }
  }
 ],
 "metadata": {
  "kernelspec": {
   "display_name": "Python 3",
   "language": "python",
   "name": "python3"
  },
  "language_info": {
   "codemirror_mode": {
    "name": "ipython",
    "version": 2
   },
   "file_extension": ".py",
   "mimetype": "text/x-python",
   "name": "python",
   "nbconvert_exporter": "python",
   "pygments_lexer": "ipython2",
   "version": "2.7.6"
  }
 },
 "nbformat": 4,
 "nbformat_minor": 0
}