{
 "cells": [
  {
   "cell_type": "code",
   "execution_count": 65,
   "metadata": {
    "collapsed": true,
    "pycharm": {
     "name": "#%%\n"
    }
   },
   "outputs": [],
   "source": [
    "import numpy as np\n",
    "from copy import deepcopy\n",
    "import random"
   ]
  },
  {
   "cell_type": "code",
   "execution_count": 66,
   "outputs": [],
   "source": [
    "def norm(vector):\n",
    "    return np.sqrt(sum(x**2 for x in vector))\n",
    "\n",
    "def mul_matrix_by_vector(matrix, vector):\n",
    "    assert len(matrix[0]) == len(vector)\n",
    "    return np.array([sum(matrix[i][j] * vector[j] for j in range(len(vector))) for i in range(len(matrix))])\n",
    "\n",
    "\n",
    "def gauss(A, b):\n",
    "    n = len(A)\n",
    "    A = deepcopy(A)\n",
    "    b = deepcopy(b)\n",
    "\n",
    "    for i in range(n):\n",
    "        if A[i][i] == 0:\n",
    "            for j in range(i + 1, n):\n",
    "                if A[j][i] != 0:\n",
    "                    A[i], A[j] = A[j], A[i]\n",
    "                    break\n",
    "\n",
    "        for j in range(i + 1, n):\n",
    "            f = A[j][i] / A[i][i]\n",
    "            A[j] -= f * A[i]\n",
    "            b[j] -= f * b[i]\n",
    "\n",
    "    x = np.zeros(shape=(n, ))\n",
    "\n",
    "    for i in range(n - 1, -1, -1):\n",
    "        x[i] = b[i] / A[i][i]\n",
    "        for j in range(i - 1, -1, -1):\n",
    "            b[j] -= A[j][i] * x[i]\n",
    "\n",
    "    return np.array(x)\n",
    "\n",
    "def random_tridiagonal_matrix(a, b, n):\n",
    "    matrix = np.zeros((n, n))\n",
    "    for i in range(n):\n",
    "        matrix[i][i] = random.uniform(a, b)\n",
    "        if i > 0:\n",
    "            matrix[i][i-1] = random.uniform(a, b)\n",
    "        if i < n - 1:\n",
    "            matrix[i][i+1] = random.uniform(a, b)\n",
    "\n",
    "    return matrix\n",
    "\n",
    "\n",
    "def thomas(A, b):\n",
    "    n = len(b)\n",
    "\n",
    "    alpha = np.zeros(shape=(n, ))\n",
    "    beta = np.zeros(shape=(n, ))\n",
    "\n",
    "    alpha[0] = A[0][1] / A[0][0]\n",
    "    beta[0] = b[0] / A[0][0]\n",
    "\n",
    "    for i in range(1, n):\n",
    "        denominator = A[i][i] - A[i][i - 1] * alpha[i - 1]\n",
    "        if i == n - 1:\n",
    "            alpha[i] = 0\n",
    "        else:\n",
    "            alpha[i] = A[i][i + 1] / denominator\n",
    "        beta[i] = (b[i] - A[i][i - 1] * beta[i - 1]) / denominator\n",
    "    x = np.zeros(shape=(n, ))\n",
    "    x[n - 1] = beta[n - 1]\n",
    "    for i in range(n - 2, -1, -1):\n",
    "        x[i] = -alpha[i] * x[i + 1] + beta[i]\n",
    "    return x\n"
   ],
   "metadata": {
    "collapsed": false,
    "pycharm": {
     "name": "#%%\n"
    }
   }
  },
  {
   "cell_type": "code",
   "execution_count": 67,
   "outputs": [],
   "source": [
    "A = random_tridiagonal_matrix(0, 10, 100)\n",
    "x = np.random.uniform(low=0, high=10, size=100)\n",
    "b = mul_matrix_by_vector(A, x)\n",
    "\n",
    "x_gauss = gauss(A, b)\n",
    "x_thomas = thomas(A, b)\n",
    "x_np = np.linalg.solve(A, b)\n",
    "\n",
    "relative_gauss = norm(x - x_gauss) / norm(x) * 100\n",
    "relative_thomas = norm(x - x_thomas) / norm(x) * 100\n",
    "relative_np = norm(x - x_np) / norm(x) * 100"
   ],
   "metadata": {
    "collapsed": false,
    "pycharm": {
     "name": "#%%\n"
    }
   }
  },
  {
   "cell_type": "code",
   "execution_count": 68,
   "outputs": [
    {
     "name": "stdout",
     "output_type": "stream",
     "text": [
      "4.302208634655088e-12 7.691920603801856e-12\n",
      "1.5987397053289788e-12 2.8583873828150534e-12\n",
      "6.298272746772862e-12 1.1260684458449056e-11\n"
     ]
    }
   ],
   "source": [
    "print(norm(x - x_gauss), relative_gauss)\n",
    "print(norm(x - x_thomas), relative_thomas)\n",
    "print(norm(x - x_np), relative_np)"
   ],
   "metadata": {
    "collapsed": false,
    "pycharm": {
     "name": "#%%\n"
    }
   }
  }
 ],
 "metadata": {
  "kernelspec": {
   "display_name": "Python 3",
   "language": "python",
   "name": "python3"
  },
  "language_info": {
   "codemirror_mode": {
    "name": "ipython",
    "version": 2
   },
   "file_extension": ".py",
   "mimetype": "text/x-python",
   "name": "python",
   "nbconvert_exporter": "python",
   "pygments_lexer": "ipython2",
   "version": "2.7.6"
  }
 },
 "nbformat": 4,
 "nbformat_minor": 0
}