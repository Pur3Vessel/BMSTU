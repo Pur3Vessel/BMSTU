{
 "cells": [
  {
   "cell_type": "code",
   "execution_count": 31,
   "metadata": {
    "collapsed": true,
    "pycharm": {
     "name": "#%%\n"
    }
   },
   "outputs": [],
   "source": [
    "import numpy as np"
   ]
  },
  {
   "cell_type": "code",
   "execution_count": 32,
   "outputs": [],
   "source": [
    "def generate_sim_matrix(n=4, a=-5, b=5):\n",
    "    A = np.random.uniform(a, b, (n, n))\n",
    "    return A @ A.T\n",
    "\n",
    "\n",
    "def lu(A):\n",
    "    n = len(A)\n",
    "    l = np.zeros(shape=(n, n))\n",
    "    u = np.zeros(shape=(n, n))\n",
    "\n",
    "    for i in range(n):\n",
    "        l[i][i] = 1\n",
    "\n",
    "    for i in range(n):\n",
    "        for j in range(n):\n",
    "            if j >= i:\n",
    "                u[i][j] = A[i][j] - sum(l[i][p] * u[p][j] for p in range(i))\n",
    "            else:\n",
    "                l[i][j] = (A[i][j] - sum(l[i][p] * u[p][j] for p in range(j))) / u[j][j]\n",
    "\n",
    "    return l, u\n",
    "\n",
    "def det(A):\n",
    "    n = len(A)\n",
    "    l, u = lu(A)\n",
    "    det = 1\n",
    "\n",
    "    for i in range(n):\n",
    "        det *= l[i][i]\n",
    "        det *= u[i][i]\n",
    "    return det\n"
   ],
   "metadata": {
    "collapsed": false,
    "pycharm": {
     "name": "#%%\n"
    }
   }
  },
  {
   "cell_type": "code",
   "execution_count": 33,
   "outputs": [
    {
     "name": "stdout",
     "output_type": "stream",
     "text": [
      "det: 25311.598747624463\n",
      "det_lib 25311.598747624415\n"
     ]
    }
   ],
   "source": [
    "A = generate_sim_matrix(n=4)\n",
    "\n",
    "det_lu = det(A)\n",
    "det_lib = np.linalg.det(A)\n",
    "\n",
    "print(\"det:\", det_lu)\n",
    "print(\"det_lib\", det_lib)"
   ],
   "metadata": {
    "collapsed": false,
    "pycharm": {
     "name": "#%%\n"
    }
   }
  },
  {
   "cell_type": "code",
   "execution_count": 34,
   "outputs": [
    {
     "name": "stdout",
     "output_type": "stream",
     "text": [
      "det: 3683643726593434.5\n",
      "det_lib 3683643726593417.5\n"
     ]
    }
   ],
   "source": [
    "A = generate_sim_matrix(n=10)\n",
    "\n",
    "det_lu = det(A)\n",
    "det_lib = np.linalg.det(A)\n",
    "\n",
    "print(\"det:\", det_lu)\n",
    "print(\"det_lib\", det_lib)"
   ],
   "metadata": {
    "collapsed": false,
    "pycharm": {
     "name": "#%%\n"
    }
   }
  },
  {
   "cell_type": "code",
   "execution_count": 35,
   "outputs": [
    {
     "name": "stdout",
     "output_type": "stream",
     "text": [
      "det: 8.26357556506871e+107\n",
      "det_lib 8.263575565084261e+107\n"
     ]
    }
   ],
   "source": [
    "A = generate_sim_matrix(n=50)\n",
    "\n",
    "det_lu = det(A)\n",
    "det_lib = np.linalg.det(A)\n",
    "\n",
    "print(\"det:\", det_lu)\n",
    "print(\"det_lib\", det_lib)"
   ],
   "metadata": {
    "collapsed": false,
    "pycharm": {
     "name": "#%%\n"
    }
   }
  }
 ],
 "metadata": {
  "kernelspec": {
   "display_name": "Python 3",
   "language": "python",
   "name": "python3"
  },
  "language_info": {
   "codemirror_mode": {
    "name": "ipython",
    "version": 2
   },
   "file_extension": ".py",
   "mimetype": "text/x-python",
   "name": "python",
   "nbconvert_exporter": "python",
   "pygments_lexer": "ipython2",
   "version": "2.7.6"
  }
 },
 "nbformat": 4,
 "nbformat_minor": 0
}