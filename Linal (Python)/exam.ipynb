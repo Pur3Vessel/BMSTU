{
 "cells": [
  {
   "cell_type": "code",
   "execution_count": 200,
   "metadata": {
    "collapsed": true,
    "pycharm": {
     "name": "#%%\n"
    }
   },
   "outputs": [],
   "source": [
    "import numpy as np"
   ]
  },
  {
   "cell_type": "code",
   "execution_count": 201,
   "outputs": [],
   "source": [
    "def gerchgorin_circles(A):\n",
    "    circles = []\n",
    "    intervals = []\n",
    "    p = 0\n",
    "    for i in range(len(A)):\n",
    "        center = A[i][i]\n",
    "        radius = sum(abs(A[i][j]) for j in range(len(A)) if j != i)\n",
    "        intervals.append([center - radius, center + radius])\n",
    "        circles.append((center, radius))\n",
    "\n",
    "    intervals.sort(key=lambda x:x[0])\n",
    "    circles.sort(key=lambda x:x[0])\n",
    "    merged = [intervals[0]]\n",
    "    for i in range(1, len(intervals)):\n",
    "        current_interval = intervals[i]\n",
    "        previous_interval = merged[-1]\n",
    "        if current_interval[0] <= previous_interval[1]:\n",
    "            merged[-1] = [previous_interval[0], max(previous_interval[1], current_interval[1])]\n",
    "            p += 1\n",
    "        else:\n",
    "            merged.append(current_interval)\n",
    "\n",
    "    return intervals, p, circles"
   ],
   "metadata": {
    "collapsed": false,
    "pycharm": {
     "name": "#%%\n"
    }
   }
  },
  {
   "cell_type": "code",
   "execution_count": 202,
   "outputs": [
    {
     "name": "stdout",
     "output_type": "stream",
     "text": [
      "[[ 6.60344867 -3.24374277  2.16898273]\n",
      " [-8.86724011  6.21569509 -3.08859403]\n",
      " [-3.11626008 -2.43852598 -9.53123681]]\n",
      "[(-9.531236808832983, 5.554786060068921), (6.215695088741455, 11.95583414230071), (6.60344867475558, 5.412725496633049)]\n",
      "[[-15.086022868901903, -3.9764507487640612], [-5.740139053559254, 18.171529231042165], [1.1907231781225303, 12.016174171388629]]\n",
      "2\n"
     ]
    }
   ],
   "source": [
    "A = np.random.uniform(low=-10, high=10, size=(3, 3))\n",
    "intervals, p, circles = gerchgorin_circles(A)\n",
    "print(A)\n",
    "print(circles)\n",
    "print(intervals)\n",
    "print(p)"
   ],
   "metadata": {
    "collapsed": false,
    "pycharm": {
     "name": "#%%\n"
    }
   }
  },
  {
   "cell_type": "code",
   "execution_count": 203,
   "outputs": [
    {
     "name": "stdout",
     "output_type": "stream",
     "text": [
      "[(6.60344867475558, 9.76161746328736), (6.215695088741455, 23.476064301876796), (-9.531236808832983, 15.394955605799813)]\n"
     ]
    }
   ],
   "source": [
    "def svd_decomposition(A):\n",
    "    ATA = np.dot(A.T, A)\n",
    "\n",
    "    eigenval, eigenvec = np.linalg.eig(ATA)\n",
    "    singular = np.sqrt(eigenval)\n",
    "\n",
    "    S = np.zeros(shape=(len(singular), len(singular)))\n",
    "    for i in range(len(S)):\n",
    "        S[i][i] = singular[i]\n",
    "    V = eigenvec\n",
    "    U = A @ V @ np.linalg.inv(S)\n",
    "\n",
    "    return U, S, V.T\n",
    "\n",
    "_, S, _ = svd_decomposition(A)\n",
    "\n",
    "\n",
    "circles = []\n",
    "\n",
    "\n",
    "for i in range(len(S)):\n",
    "    c = A[i][i]\n",
    "    r = sum(abs(S[j][j]) for j in range(len(S)) if j != i)\n",
    "    circles.append((c, r))\n",
    "print(circles)\n"
   ],
   "metadata": {
    "collapsed": false,
    "pycharm": {
     "name": "#%%\n"
    }
   }
  },
  {
   "cell_type": "code",
   "execution_count": 203,
   "outputs": [],
   "source": [],
   "metadata": {
    "collapsed": false,
    "pycharm": {
     "name": "#%%\n"
    }
   }
  }
 ],
 "metadata": {
  "kernelspec": {
   "display_name": "Python 3",
   "language": "python",
   "name": "python3"
  },
  "language_info": {
   "codemirror_mode": {
    "name": "ipython",
    "version": 2
   },
   "file_extension": ".py",
   "mimetype": "text/x-python",
   "name": "python",
   "nbconvert_exporter": "python",
   "pygments_lexer": "ipython2",
   "version": "2.7.6"
  }
 },
 "nbformat": 4,
 "nbformat_minor": 0
}