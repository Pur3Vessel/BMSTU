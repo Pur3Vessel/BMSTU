{
 "cells": [
  {
   "cell_type": "code",
   "execution_count": 33,
   "metadata": {
    "collapsed": true,
    "pycharm": {
     "name": "#%%\n"
    }
   },
   "outputs": [],
   "source": [
    "import numpy as np\n",
    "from copy import deepcopy\n",
    "import matplotlib.pyplot as plt\n",
    "\n",
    "\n",
    "def mul_matrix_by_vector(matrix, vector):\n",
    "    assert len(matrix[0]) == len(vector)\n",
    "    return np.array([sum(matrix[i][j] * vector[j] for j in range(len(vector))) for i in range(len(matrix))])\n",
    "\n",
    "def gauss(A, b):\n",
    "    n = len(A)\n",
    "    A = deepcopy(A)\n",
    "    b = deepcopy(b)\n",
    "\n",
    "    for i in range(n - 1):\n",
    "        if A[i][i] == 0:\n",
    "            for j in range(i + 1, n):\n",
    "                if A[j][i] != 0:\n",
    "                    A[i], A[j] = A[j], A[i]\n",
    "                    break\n",
    "\n",
    "        for j in range(i + 1, n):\n",
    "            f = A[j][i] / A[i][i]\n",
    "            A[j] -= f * A[i]\n",
    "            b[j] -= f * b[i]\n",
    "\n",
    "    x = np.zeros(shape=(n, ))\n",
    "\n",
    "    for i in range(n - 1, -1, -1):\n",
    "        x[i] = b[i] / A[i][i]\n",
    "        for j in range(i - 1, -1, -1):\n",
    "            b[j] -= A[j][i] * x[i]\n",
    "\n",
    "    return np.array(x)\n",
    "\n",
    "def norm(vector):\n",
    "    return max(abs(vector))\n",
    "\n",
    "def norm_matrix(matrix):\n",
    "    return max([sum(abs(matrix[i][j]) for j in range(len(matrix[i])) if j != i) / abs(matrix[i][i]) for i in range(len(matrix))])\n",
    "\n",
    "def generate_matrix(n, a = -10, b = 10, diag=None):\n",
    "    A = np.random.uniform(a, b, (n, n))\n",
    "    if diag is not None:\n",
    "        for i in range(len(A)):\n",
    "            A[i][i] = abs(A[i][i])\n",
    "            A[i][i] += diag * sum(abs(A[i][j]) for j in range(n) if j != i)\n",
    "    return A\n",
    "\n",
    "def check_diag_dom(A):\n",
    "    for i in range(len(A)):\n",
    "        s = sum(abs(A[i][j]) for j in range(len(A[i])) if j != i)\n",
    "        if A[i][i] < s:\n",
    "            return False\n",
    "    return True\n",
    "\n",
    "def jacobi(A, b, delta=1e-7):\n",
    "    n = len(A)\n",
    "    x_prev = np.zeros(shape=(n, ))\n",
    "    difference = np.array([1] * n)\n",
    "    x_k = None\n",
    "    i = 0\n",
    "    while norm(difference) > delta:\n",
    "        x_k = np.array([sum([b[i]] + [A[i][j] * x_prev[j] * -1 for j in range(n) if j != i]) / A[i][i] for i in range(n)])\n",
    "        difference = x_k - x_prev\n",
    "        x_prev = deepcopy(x_k)\n",
    "        i += 1\n",
    "    return x_k, i\n",
    "\n",
    "def seidel(A, b, delta=1e-7):\n",
    "    n = len(A)\n",
    "    x_prev = np.zeros(shape=(n, ))\n",
    "    difference = np.array([1] * n)\n",
    "    x_k = None\n",
    "    k = 0\n",
    "    while norm(difference) > delta:\n",
    "        x_k = deepcopy(x_prev)\n",
    "        for i in range(n):\n",
    "            x_i = b[i]\n",
    "            x_i -= sum(A[i][j] * x_k[j] for j in range(i))\n",
    "            x_i -= sum(A[i][j] * x_prev[j] for j in range(i + 1, n))\n",
    "            x_i /= A[i][i]\n",
    "            x_k[i] = x_i\n",
    "        difference = x_k - x_prev\n",
    "        x_prev = deepcopy(x_k)\n",
    "        k += 1\n",
    "    return x_k, k\n"
   ]
  },
  {
   "cell_type": "code",
   "execution_count": 34,
   "outputs": [
    {
     "name": "stdout",
     "output_type": "stream",
     "text": [
      "Matrix has diagonal dominance\n",
      "||P|| =  0.49461419353023217 < 1\n",
      "Iterations: 14\n",
      "Gauss:  [ 6.53727331 -0.32912652 -5.04412352]  norm dif:  0.0\n",
      "Jacobi [ 6.5372733  -0.32912651 -5.04412352]  norm dif:  7.329552076384971e-09\n",
      "Real:  [ 6.53727331 -0.32912652 -5.04412352]\n"
     ]
    }
   ],
   "source": [
    "n = 3\n",
    "A = generate_matrix(n=n, diag=2)\n",
    "\n",
    "\n",
    "if check_diag_dom(A):\n",
    "    print('Matrix has diagonal dominance')\n",
    "else:\n",
    "    print('Matrix has not diagonal dominance')\n",
    "\n",
    "print(\"||P|| = \", norm_matrix(A), \"< 1\")\n",
    "\n",
    "x = np.random.uniform(-10, 10, size=(n, ))\n",
    "\n",
    "b = mul_matrix_by_vector(matrix=A, vector=x)\n",
    "\n",
    "gauss_answer = gauss(A, b)\n",
    "jacobi_answer, i = jacobi(A, b)\n",
    "\n",
    "print(\"Iterations:\",  i)\n",
    "print(\"Gauss: \", gauss_answer, \" norm dif: \", norm(gauss_answer - x))\n",
    "print(\"Jacobi\", jacobi_answer, \" norm dif: \", norm(jacobi_answer - x))\n",
    "print(\"Real: \", x)"
   ],
   "metadata": {
    "collapsed": false,
    "pycharm": {
     "name": "#%%\n"
    }
   }
  },
  {
   "cell_type": "code",
   "execution_count": 35,
   "outputs": [
    {
     "name": "stdout",
     "output_type": "stream",
     "text": [
      "Matrix has diagonal dominance\n",
      "||P|| =  0.49461419353023217 < 1\n",
      "Iterations: 10\n",
      "Gauss:  [ 6.53727331 -0.32912652 -5.04412352]  norm dif:  0.0\n",
      "Seidel [ 6.53727331 -0.32912652 -5.04412352]  norm dif:  1.0115517312669908e-09\n",
      "Real:  [ 6.53727331 -0.32912652 -5.04412352]\n"
     ]
    }
   ],
   "source": [
    "if check_diag_dom(A):\n",
    "    print('Matrix has diagonal dominance')\n",
    "else:\n",
    "    print('Matrix has not diagonal dominance')\n",
    "\n",
    "print(\"||P|| = \", norm_matrix(A), \"< 1\")\n",
    "\n",
    "gauss_answer = gauss(A, b)\n",
    "seidel_answer, i = seidel(A, b)\n",
    "\n",
    "print(\"Iterations:\",  i)\n",
    "print(\"Gauss: \", gauss_answer, \" norm dif: \", norm(gauss_answer - x))\n",
    "print(\"Seidel\", seidel_answer, \" norm dif: \", norm(seidel_answer - x))\n",
    "print(\"Real: \", x)"
   ],
   "metadata": {
    "collapsed": false,
    "pycharm": {
     "name": "#%%\n"
    }
   }
  },
  {
   "cell_type": "code",
   "execution_count": 36,
   "outputs": [
    {
     "data": {
      "text/plain": "<Figure size 800x400 with 1 Axes>",
      "image/png": "[encoded data removed]"
     },
     "metadata": {},
     "output_type": "display_data"
    }
   ],
   "source": [
    "jacobi_y = []\n",
    "seidel_y = []\n",
    "n_arr = [i for i in range(3, 50)]\n",
    "for n in n_arr:\n",
    "    A = generate_matrix(n=n, diag=2)\n",
    "    x = np.random.uniform(-10, 10, size=(n, ))\n",
    "    b = mul_matrix_by_vector(matrix=A, vector=x)\n",
    "\n",
    "    jacobi_answer, jacobi_i = jacobi(A, b)\n",
    "    seidel_answer, seidel_i = seidel(A, b)\n",
    "    jacobi_y.append(jacobi_i)\n",
    "    seidel_y.append(seidel_i)\n",
    "\n",
    "plt.figure(figsize=(8, 4))\n",
    "plt.xlabel(\"dim\")\n",
    "plt.ylabel(\"iteration\")\n",
    "plt.plot(n_arr, jacobi_y, label='Jacobi')\n",
    "plt.plot(n_arr, seidel_y, label='Seidel', color='red')\n",
    "plt.legend()\n",
    "plt.show()"
   ],
   "metadata": {
    "collapsed": false,
    "pycharm": {
     "name": "#%%\n"
    }
   }
  }
 ],
 "metadata": {
  "kernelspec": {
   "display_name": "Python 3",
   "language": "python",
   "name": "python3"
  },
  "language_info": {
   "codemirror_mode": {
    "name": "ipython",
    "version": 2
   },
   "file_extension": ".py",
   "mimetype": "text/x-python",
   "name": "python",
   "nbconvert_exporter": "python",
   "pygments_lexer": "ipython2",
   "version": "2.7.6"
  }
 },
 "nbformat": 4,
 "nbformat_minor": 0
}