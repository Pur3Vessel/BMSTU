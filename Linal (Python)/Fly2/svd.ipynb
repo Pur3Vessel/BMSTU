{
 "cells": [
  {
   "cell_type": "code",
   "execution_count": 4,
   "metadata": {
    "collapsed": true,
    "pycharm": {
     "name": "#%%\n"
    }
   },
   "outputs": [],
   "source": [
    "import numpy as np\n",
    "\n",
    "def svd_decomposition(A):\n",
    "    ATA = np.dot(A.T, A)\n",
    "\n",
    "    eigenval, eigenvec = np.linalg.eig(ATA)\n",
    "    singular = np.sqrt(eigenval)\n",
    "\n",
    "    S = np.zeros(shape=(len(singular), len(singular)))\n",
    "    for i in range(len(S)):\n",
    "        S[i][i] = singular[i]\n",
    "    V = eigenvec\n",
    "    U = A @ V @ np.linalg.inv(S)\n",
    "\n",
    "    return U, S, V.T\n"
   ]
  },
  {
   "cell_type": "code",
   "execution_count": 5,
   "outputs": [
    {
     "name": "stdout",
     "output_type": "stream",
     "text": [
      "A: [[3 1 0]\n",
      " [1 2 2]\n",
      " [0 1 1]]\n",
      "A_compute: [[ 3.00000000e+00  1.00000000e+00 -1.75207071e-16]\n",
      " [ 1.00000000e+00  2.00000000e+00  2.00000000e+00]\n",
      " [-1.11022302e-16  1.00000000e+00  1.00000000e+00]]\n",
      "----------------\n",
      "\n",
      "U: [[-0.67988662 -0.71823656 -0.14795412]\n",
      " [-0.68742382  0.55397543  0.46963786]\n",
      " [-0.25534813  0.42100768 -0.8703734 ]]\n",
      "S: [[3.92823172 0.         0.        ]\n",
      " [0.         2.35739994 0.        ]\n",
      " [0.         0.         0.10798654]]\n",
      "V_T: [[-0.69422679 -0.58807183 -0.41499481]\n",
      " [-0.67902533  0.34390515  0.64857834]\n",
      " [ 0.2386918  -0.73205244  0.63806383]]\n",
      "----------------\n",
      "\n",
      "U_np: [[-0.67988662  0.71823656  0.14795412]\n",
      " [-0.68742382 -0.55397543 -0.46963786]\n",
      " [-0.25534813 -0.42100768  0.8703734 ]]\n",
      "S_np: [3.92823172 2.35739994 0.10798654]\n",
      "V_np: [[-0.69422679 -0.58807183 -0.41499481]\n",
      " [ 0.67902533 -0.34390515 -0.64857834]\n",
      " [-0.2386918   0.73205244 -0.63806383]]\n"
     ]
    }
   ],
   "source": [
    "A = np.array([[3, 1, 0], [1, 2, 2], [0, 1, 1]])\n",
    "\n",
    "print(f\"A: {A}\")\n",
    "\n",
    "U, S, V_T = svd_decomposition(A)\n",
    "\n",
    "A_compute = U @ S @ V_T\n",
    "\n",
    "print(f\"A_compute: {A_compute}\")\n",
    "\n",
    "print(\"----------------\\n\")\n",
    "\n",
    "print(f\"U: {U}\")\n",
    "print(f\"S: {S}\")\n",
    "print(f\"V_T: {V_T}\")\n",
    "\n",
    "print(\"----------------\\n\")\n",
    "\n",
    "U_np, S_np, V_np = np.linalg.svd(A)\n",
    "print(f\"U_np: {U_np}\")\n",
    "print(f\"S_np: {S_np}\")\n",
    "print(f\"V_np: {V_np}\")"
   ],
   "metadata": {
    "collapsed": false,
    "pycharm": {
     "name": "#%%\n"
    }
   }
  },
  {
   "cell_type": "code",
   "execution_count": 6,
   "outputs": [
    {
     "name": "stdout",
     "output_type": "stream",
     "text": [
      "A: [[1 2 3]\n",
      " [4 5 6]\n",
      " [7 8 9]]\n",
      "A_compute: [[1. 2. 3.]\n",
      " [4. 5. 6.]\n",
      " [7. 8. 9.]]\n",
      "----------------\n",
      "\n",
      "U: [[-2.14837238e-01  8.87230688e-01  8.66671290e-08]\n",
      " [-5.20587389e-01  2.49643953e-01  2.88890430e-08]\n",
      " [-8.26337541e-01 -3.87942782e-01 -2.16667823e-08]]\n",
      "S: [[1.68481034e+01 0.00000000e+00 0.00000000e+00]\n",
      " [0.00000000e+00 1.06836951e+00 0.00000000e+00]\n",
      " [0.00000000e+00 0.00000000e+00 6.14889472e-08]]\n",
      "V_T: [[-0.47967118 -0.57236779 -0.66506441]\n",
      " [-0.77669099 -0.07568647  0.62531805]\n",
      " [ 0.40824829 -0.81649658  0.40824829]]\n",
      "----------------\n",
      "\n",
      "U_np: [[-0.21483724  0.88723069  0.40824829]\n",
      " [-0.52058739  0.24964395 -0.81649658]\n",
      " [-0.82633754 -0.38794278  0.40824829]]\n",
      "S_np: [1.68481034e+01 1.06836951e+00 4.41842475e-16]\n",
      "V_np: [[-0.47967118 -0.57236779 -0.66506441]\n",
      " [-0.77669099 -0.07568647  0.62531805]\n",
      " [-0.40824829  0.81649658 -0.40824829]]\n"
     ]
    }
   ],
   "source": [
    "A = np.array([[1, 2, 3], [4, 5, 6], [7, 8, 9]])\n",
    "\n",
    "print(f\"A: {A}\")\n",
    "\n",
    "U, S, V_T = svd_decomposition(A)\n",
    "\n",
    "A_compute = U @ S @ V_T\n",
    "\n",
    "print(f\"A_compute: {A_compute}\")\n",
    "\n",
    "print(\"----------------\\n\")\n",
    "\n",
    "print(f\"U: {U}\")\n",
    "print(f\"S: {S}\")\n",
    "print(f\"V_T: {V_T}\")\n",
    "\n",
    "print(\"----------------\\n\")\n",
    "\n",
    "U_np, S_np, V_np = np.linalg.svd(A)\n",
    "print(f\"U_np: {U_np}\")\n",
    "print(f\"S_np: {S_np}\")\n",
    "print(f\"V_np: {V_np}\")"
   ],
   "metadata": {
    "collapsed": false,
    "pycharm": {
     "name": "#%%\n"
    }
   }
  },
  {
   "cell_type": "code",
   "execution_count": 7,
   "outputs": [
    {
     "name": "stdout",
     "output_type": "stream",
     "text": [
      "A: [[1 2]\n",
      " [4 5]\n",
      " [7 8]]\n",
      "A_compute: [[1. 2.]\n",
      " [4. 5.]\n",
      " [7. 8.]]\n",
      "----------------\n",
      "\n",
      "U: [[ 0.89640564 -0.17259857]\n",
      " [ 0.27400657 -0.50818671]\n",
      " [-0.3483925  -0.84377485]]\n",
      "S: [[ 0.58339625  0.        ]\n",
      " [ 0.         12.59601718]]\n",
      "V_T: [[-0.76502988  0.64399479]\n",
      " [-0.64399479 -0.76502988]]\n",
      "----------------\n",
      "\n",
      "U_np: [[-0.17259857  0.89640564  0.40824829]\n",
      " [-0.50818671  0.27400657 -0.81649658]\n",
      " [-0.84377485 -0.3483925   0.40824829]]\n",
      "S_np: [12.59601718  0.58339625]\n",
      "V_np: [[-0.64399479 -0.76502988]\n",
      " [-0.76502988  0.64399479]]\n"
     ]
    }
   ],
   "source": [
    "A = np.array([[1, 2], [4, 5], [7, 8]])\n",
    "\n",
    "print(f\"A: {A}\")\n",
    "\n",
    "U, S, V_T = svd_decomposition(A)\n",
    "\n",
    "A_compute = U @ S @ V_T\n",
    "\n",
    "print(f\"A_compute: {A_compute}\")\n",
    "\n",
    "print(\"----------------\\n\")\n",
    "\n",
    "print(f\"U: {U}\")\n",
    "print(f\"S: {S}\")\n",
    "print(f\"V_T: {V_T}\")\n",
    "\n",
    "print(\"----------------\\n\")\n",
    "\n",
    "U_np, S_np, V_np = np.linalg.svd(A)\n",
    "print(f\"U_np: {U_np}\")\n",
    "print(f\"S_np: {S_np}\")\n",
    "print(f\"V_np: {V_np}\")"
   ],
   "metadata": {
    "collapsed": false,
    "pycharm": {
     "name": "#%%\n"
    }
   }
  },
  {
   "cell_type": "code",
   "execution_count": 10,
   "outputs": [
    {
     "name": "stdout",
     "output_type": "stream",
     "text": [
      "A: [[  2   3  -8]\n",
      " [  4   5 -11]]\n",
      "A_compute: [[  2.   3.  -8.]\n",
      " [  4.   5. -11.]]\n",
      "----------------\n",
      "\n",
      "U: [[-5.66758674e-01  8.23883854e-01 -1.97633093e-07]\n",
      " [-8.23883854e-01 -5.66758674e-01  1.79666449e-08]]\n",
      "S: [[1.54388506e+01 0.00000000e+00 0.00000000e+00]\n",
      " [0.00000000e+00 8.01181200e-01 0.00000000e+00]\n",
      " [0.00000000e+00 0.00000000e+00 2.47174257e-08]]\n",
      "V_T: [[-0.2868771  -0.37695133  0.88068679]\n",
      " [-0.77294249 -0.45200987 -0.44524936]\n",
      " [-0.56591646  0.80845208  0.16169042]]\n",
      "----------------\n",
      "\n",
      "U_np: [[-0.56675867  0.82388385]\n",
      " [-0.82388385 -0.56675867]]\n",
      "S_np: [15.43885063  0.8011812 ]\n",
      "V_np: [[-0.2868771  -0.37695133  0.88068679]\n",
      " [-0.77294249 -0.45200987 -0.44524936]\n",
      " [ 0.56591646 -0.80845208 -0.16169042]]\n"
     ]
    }
   ],
   "source": [
    "A = np.array([[2, 3, -8], [4, 5, -11]])\n",
    "\n",
    "print(f\"A: {A}\")\n",
    "\n",
    "U, S, V_T = svd_decomposition(A)\n",
    "\n",
    "A_compute = U @ S @ V_T\n",
    "\n",
    "print(f\"A_compute: {A_compute}\")\n",
    "\n",
    "print(\"----------------\\n\")\n",
    "\n",
    "print(f\"U: {U}\")\n",
    "print(f\"S: {S}\")\n",
    "print(f\"V_T: {V_T}\")\n",
    "\n",
    "print(\"----------------\\n\")\n",
    "\n",
    "U_np, S_np, V_np = np.linalg.svd(A)\n",
    "print(f\"U_np: {U_np}\")\n",
    "print(f\"S_np: {S_np}\")\n",
    "print(f\"V_np: {V_np}\")"
   ],
   "metadata": {
    "collapsed": false,
    "pycharm": {
     "name": "#%%\n"
    }
   }
  }
 ],
 "metadata": {
  "kernelspec": {
   "display_name": "Python 3",
   "language": "python",
   "name": "python3"
  },
  "language_info": {
   "codemirror_mode": {
    "name": "ipython",
    "version": 2
   },
   "file_extension": ".py",
   "mimetype": "text/x-python",
   "name": "python",
   "nbconvert_exporter": "python",
   "pygments_lexer": "ipython2",
   "version": "2.7.6"
  }
 },
 "nbformat": 4,
 "nbformat_minor": 0
}