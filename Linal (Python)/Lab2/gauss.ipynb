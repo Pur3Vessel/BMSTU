{
 "cells": [
  {
   "cell_type": "code",
   "execution_count": 2,
   "metadata": {
    "collapsed": true,
    "pycharm": {
     "name": "#%%\n"
    }
   },
   "outputs": [],
   "source": [
    "import numpy as np\n",
    "import random\n",
    "from copy import deepcopy\n",
    "\n",
    "\n",
    "def norm(vector):\n",
    "    return np.sqrt(sum(x**2 for x in vector))\n",
    "\n",
    "\n",
    "def mul_matrix_by_vector(matrix, vector):\n",
    "    assert len(matrix[0]) == len(vector)\n",
    "    return np.array([sum(matrix[i][j] * vector[j] for j in range(len(vector))) for i in range(len(matrix))])\n",
    "\n",
    "\n",
    "def read_matrix_from_file(filename):\n",
    "    matrix = []\n",
    "    with open(filename, 'r') as file:\n",
    "        lines = file.readlines()\n",
    "        for line in lines:\n",
    "            row = [int(x) for x in line.split()]\n",
    "            matrix.append(row)\n",
    "    return np.array(matrix)\n",
    "\n",
    "\n",
    "def gauss(A, b):\n",
    "    n = len(A)\n",
    "    A = deepcopy(A)\n",
    "    b = deepcopy(b)\n",
    "\n",
    "    for i in range(n - 1):\n",
    "        if A[i][i] == 0:\n",
    "            for j in range(i + 1, n):\n",
    "                if A[j][i] != 0:\n",
    "                    A[i], A[j] = A[j], A[i]\n",
    "                    break\n",
    "\n",
    "        for j in range(i + 1, n):\n",
    "            f = A[j][i] / A[i][i]\n",
    "            A[j] -= f * A[i]\n",
    "            b[j] -= f * b[i]\n",
    "\n",
    "    x = np.zeros(shape=(n, ))\n",
    "\n",
    "    for i in range(n - 1, -1, -1):\n",
    "        x[i] = b[i] / A[i][i]\n",
    "        for j in range(i - 1, -1, -1):\n",
    "            b[j] -= A[j][i] * x[i]\n",
    "\n",
    "    return np.array(x)\n",
    "\n",
    "\n",
    "def generate_matrix(a, b, n, diag=None):\n",
    "    A = np.random.uniform(a, b, (n, n))\n",
    "    if diag is not None:\n",
    "        for i in range(len(A)):\n",
    "            A[i][i] += diag * sum(abs(A[i][j]) if j != i else 0 for j in range(n))\n",
    "    return A\n",
    "\n",
    "def test_method(method, a = -10, b = 10, n = 100, A=None, x=None, debug=True):\n",
    "    if A is None:\n",
    "        A = generate_matrix(a, b, n)\n",
    "    if x is None:\n",
    "        x = np.random.uniform(a, b, size=n)\n",
    "    b = mul_matrix_by_vector(A, x)\n",
    "\n",
    "    x_method = method(A, b)\n",
    "\n",
    "    if debug:\n",
    "        x_np = np.linalg.solve(A, b)\n",
    "        print(f\"Method absolute error: {norm(x - x_method)}\")\n",
    "        print(f\"Numpy absolute error: {norm(x - x_np)}\")\n",
    "\n",
    "    return norm(x - x_method)\n"
   ]
  },
  {
   "cell_type": "code",
   "execution_count": 5,
   "outputs": [
    {
     "name": "stdout",
     "output_type": "stream",
     "text": [
      "No diag\n",
      "Method absolute error: 1.2010458156486547e-13\n",
      "Numpy absolute error: 1.1886258420223608e-14\n",
      "diag\n",
      "Method absolute error: 1.1065239156100681e-13\n",
      "Numpy absolute error: 1.1047084252635322e-13\n"
     ]
    },
    {
     "data": {
      "text/plain": "1.1065239156100681e-13"
     },
     "execution_count": 5,
     "metadata": {},
     "output_type": "execute_result"
    }
   ],
   "source": [
    "n = 300\n",
    "print('No diag')\n",
    "test_method(gauss, n=10)\n",
    "print('diag')\n",
    "A = generate_matrix(-10, 10, n, diag=1.0)\n",
    "test_method(gauss, A=A, n=n)"
   ],
   "metadata": {
    "collapsed": false,
    "pycharm": {
     "name": "#%%\n"
    }
   }
  },
  {
   "cell_type": "code",
   "execution_count": 3,
   "outputs": [],
   "source": [],
   "metadata": {
    "collapsed": false,
    "pycharm": {
     "name": "#%%\n"
    }
   }
  }
 ],
 "metadata": {
  "kernelspec": {
   "display_name": "Python 3",
   "language": "python",
   "name": "python3"
  },
  "language_info": {
   "codemirror_mode": {
    "name": "ipython",
    "version": 2
   },
   "file_extension": ".py",
   "mimetype": "text/x-python",
   "name": "python",
   "nbconvert_exporter": "python",
   "pygments_lexer": "ipython2",
   "version": "2.7.6"
  }
 },
 "nbformat": 4,
 "nbformat_minor": 0
}