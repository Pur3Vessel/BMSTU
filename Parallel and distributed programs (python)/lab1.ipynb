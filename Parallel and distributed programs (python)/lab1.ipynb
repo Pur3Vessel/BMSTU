{
 "cells": [
  {
   "cell_type": "code",
   "execution_count": 45,
   "metadata": {
    "collapsed": true,
    "pycharm": {
     "name": "#%%\n"
    }
   },
   "outputs": [],
   "source": [
    "import multiprocessing as mp\n",
    "import numpy as np\n",
    "import ctypes\n",
    "import random\n",
    "import seaborn as sns\n",
    "import pandas as pd\n",
    "import time"
   ]
  },
  {
   "cell_type": "markdown",
   "source": [
    "#### Функция создания общей матрицы, заполненной случайными значениями"
   ],
   "metadata": {
    "collapsed": false,
    "pycharm": {
     "name": "#%% md\n"
    }
   }
  },
  {
   "cell_type": "code",
   "execution_count": 46,
   "outputs": [],
   "source": [
    "def create_matrix ():\n",
    "    mp_matrix = mp.Array('i', dimension ** 2)\n",
    "    matrix = np.frombuffer(mp_matrix.get_obj(), ctypes.c_int).reshape(dimension, dimension)\n",
    "    for i in range(dimension):\n",
    "        for j in range(dimension):\n",
    "            matrix[i][j] = random.randint(0, 500)\n",
    "    return matrix\n"
   ],
   "metadata": {
    "collapsed": false,
    "pycharm": {
     "name": "#%%\n"
    }
   }
  },
  {
   "cell_type": "markdown",
   "source": [
    "#### Функции для обычного перемножения двух матриц:"
   ],
   "metadata": {
    "collapsed": false,
    "pycharm": {
     "name": "#%% md\n"
    }
   }
  },
  {
   "cell_type": "code",
   "execution_count": 47,
   "outputs": [],
   "source": [
    "def mul_rows():\n",
    "    C = np.zeros(dimension**2, ctypes.c_int).reshape(dimension, dimension)\n",
    "    for i in range(dimension):\n",
    "        for j in range(dimension):\n",
    "            for k in range(dimension):\n",
    "                C[i][j] += A[i][k] * B[k][j]\n",
    "    return C\n",
    "def mul_columns():\n",
    "    C = np.zeros(dimension**2).reshape(dimension, dimension)\n",
    "    for i in range(dimension):\n",
    "        for j in range(dimension):\n",
    "            for k in range(dimension):\n",
    "                C[j][i] += A[j][k] * B[k][i]\n",
    "    return C"
   ],
   "metadata": {
    "collapsed": false,
    "pycharm": {
     "name": "#%%\n"
    }
   }
  },
  {
   "cell_type": "markdown",
   "source": [
    "#### Подсчет времени непараллельного перемножения: по строкам и по столбцам"
   ],
   "metadata": {
    "collapsed": false,
    "pycharm": {
     "name": "#%% md\n"
    }
   }
  },
  {
   "cell_type": "code",
   "execution_count": 48,
   "outputs": [
    {
     "name": "stdout",
     "output_type": "stream",
     "text": [
      "По строкам: 9.75678038597107\n",
      "По столбцам: 6.602080583572388\n"
     ]
    }
   ],
   "source": [
    "dimension = 200\n",
    "A = create_matrix()\n",
    "B = create_matrix()\n",
    "\n",
    "time_start = time.time()\n",
    "C = mul_rows()\n",
    "time_rows = time.time() - time_start\n",
    "print(\"По строкам:\", time_rows)\n",
    "\n",
    "time_start = time.time()\n",
    "H = mul_columns()\n",
    "time_columns = time.time() - time_start\n",
    "print(\"По столбцам:\", time_columns)"
   ],
   "metadata": {
    "collapsed": false,
    "pycharm": {
     "name": "#%%\n"
    }
   }
  },
  {
   "cell_type": "markdown",
   "source": [
    "#### Функция для многопоточного подсчета (каждый процесс считает last_row - first_row + 1 элементов итоговой матрицы)"
   ],
   "metadata": {
    "collapsed": false,
    "pycharm": {
     "name": "#%% md\n"
    }
   }
  },
  {
   "cell_type": "code",
   "execution_count": 49,
   "outputs": [],
   "source": [
    "def mul_process(first_row, last_row):\n",
    "    for i in range (first_row, last_row + 1):\n",
    "        for j in range (dimension):\n",
    "            for k in range(dimension):\n",
    "                D[i][j] += A[i][k] * B[k][j]"
   ],
   "metadata": {
    "collapsed": false,
    "pycharm": {
     "name": "#%%\n"
    }
   }
  },
  {
   "cell_type": "markdown",
   "source": [
    "#### Многопоточность достигиается посредством использования структуры multiprocessing.Pool и использования метода starmap_async"
   ],
   "metadata": {
    "collapsed": false,
    "pycharm": {
     "name": "#%% md\n"
    }
   }
  },
  {
   "cell_type": "code",
   "execution_count": 50,
   "outputs": [
    {
     "name": "stdout",
     "output_type": "stream",
     "text": [
      "Подсчет верный\n",
      "Подсчет верный\n",
      "Подсчет верный\n",
      "Подсчет верный\n",
      "Подсчет верный\n",
      "Подсчет верный\n",
      "Подсчет верный\n",
      "Подсчет верный\n",
      "Подсчет верный\n",
      "Подсчет верный\n",
      "Подсчет верный\n",
      "Подсчет верный\n",
      "Подсчет верный\n",
      "Подсчет верный\n",
      "Подсчет верный\n"
     ]
    },
    {
     "data": {
      "text/plain": "[6.168025493621826,\n 3.136106252670288,\n 2.2112855911254883,\n 1.7708172798156738,\n 1.98417329788208,\n 1.5578629970550537,\n 1.6298351287841797,\n 1.4500019550323486,\n 1.6454846858978271,\n 1.4050588607788086,\n 1.3716669082641602,\n 1.5320594310760498,\n 1.4683468341827393,\n 1.5658257007598877,\n 1.4748356342315674]"
     },
     "execution_count": 50,
     "metadata": {},
     "output_type": "execute_result"
    }
   ],
   "source": [
    "times = []\n",
    "index_list = []\n",
    "base_times = [time_rows] * 15\n",
    "for proc_num in range (1, 16):\n",
    "    index_list.append(proc_num)\n",
    "    D = mp.Array('i',dimension**2)\n",
    "    D = np.frombuffer(D.get_obj(), ctypes.c_int).reshape(dimension, dimension)\n",
    "    part = dimension // proc_num\n",
    "    remainder = dimension % proc_num\n",
    "    args = []\n",
    "    for i in range (0, dimension, part):\n",
    "        if (i + part - 1) < dimension:\n",
    "            args.append([i, i + (part-1)])\n",
    "    args[-1][1]  += remainder\n",
    "    time_start = time.time()\n",
    "    pool = mp.Pool(proc_num)\n",
    "    pool.starmap_async(mul_process, args)\n",
    "    pool.close()\n",
    "    pool.join()\n",
    "    times.append(time.time() - time_start)\n",
    "    if np.array_equal(C, D):\n",
    "        print(\"Подсчет верный\")\n",
    "    else:\n",
    "        print(\"Подсчет неверный\")\n",
    "times\n"
   ],
   "metadata": {
    "collapsed": false,
    "pycharm": {
     "name": "#%%\n"
    }
   }
  },
  {
   "cell_type": "code",
   "execution_count": 82,
   "outputs": [
    {
     "data": {
      "text/plain": "            \n1   6.168025\n2   3.136106\n3   2.211286\n4   1.770817\n5   1.984173\n6   1.557863\n7   1.629835\n8   1.450002\n9   1.645485\n10  1.405059\n11  1.371667\n12  1.532059\n13  1.468347\n14  1.565826\n15  1.474836",
      "text/html": "<div>\n<style scoped>\n    .dataframe tbody tr th:only-of-type {\n        vertical-align: middle;\n    }\n\n    .dataframe tbody tr th {\n        vertical-align: top;\n    }\n\n    .dataframe thead th {\n        text-align: right;\n    }\n</style>\n<table border=\"1\" class=\"dataframe\">\n  <thead>\n    <tr style=\"text-align: right;\">\n      <th></th>\n      <th></th>\n    </tr>\n  </thead>\n  <tbody>\n    <tr>\n      <th>1</th>\n      <td>6.168025</td>\n    </tr>\n    <tr>\n      <th>2</th>\n      <td>3.136106</td>\n    </tr>\n    <tr>\n      <th>3</th>\n      <td>2.211286</td>\n    </tr>\n    <tr>\n      <th>4</th>\n      <td>1.770817</td>\n    </tr>\n    <tr>\n      <th>5</th>\n      <td>1.984173</td>\n    </tr>\n    <tr>\n      <th>6</th>\n      <td>1.557863</td>\n    </tr>\n    <tr>\n      <th>7</th>\n      <td>1.629835</td>\n    </tr>\n    <tr>\n      <th>8</th>\n      <td>1.450002</td>\n    </tr>\n    <tr>\n      <th>9</th>\n      <td>1.645485</td>\n    </tr>\n    <tr>\n      <th>10</th>\n      <td>1.405059</td>\n    </tr>\n    <tr>\n      <th>11</th>\n      <td>1.371667</td>\n    </tr>\n    <tr>\n      <th>12</th>\n      <td>1.532059</td>\n    </tr>\n    <tr>\n      <th>13</th>\n      <td>1.468347</td>\n    </tr>\n    <tr>\n      <th>14</th>\n      <td>1.565826</td>\n    </tr>\n    <tr>\n      <th>15</th>\n      <td>1.474836</td>\n    </tr>\n  </tbody>\n</table>\n</div>"
     },
     "execution_count": 82,
     "metadata": {},
     "output_type": "execute_result"
    },
    {
     "data": {
      "text/plain": "<Figure size 864x864 with 1 Axes>",
      "image/png": "[encoded data removed]"
     },
     "metadata": {},
     "output_type": "display_data"
    }
   ],
   "source": [
    "df = pd.DataFrame({\n",
    "    '': times,\n",
    "}, index = index_list)\n",
    "sns.set (rc={'figure.figsize':( 12 , 12 )})\n",
    "plot = sns.lineplot(data=df)\n",
    "plot.set(xlabel = \"Количество потоков\",\n",
    "        ylabel= \"Время вычисления (с.)\")\n",
    "df"
   ],
   "metadata": {
    "collapsed": false,
    "pycharm": {
     "name": "#%%\n"
    }
   }
  }
 ],
 "metadata": {
  "kernelspec": {
   "display_name": "Python 3",
   "language": "python",
   "name": "python3"
  },
  "language_info": {
   "codemirror_mode": {
    "name": "ipython",
    "version": 2
   },
   "file_extension": ".py",
   "mimetype": "text/x-python",
   "name": "python",
   "nbconvert_exporter": "python",
   "pygments_lexer": "ipython2",
   "version": "2.7.6"
  }
 },
 "nbformat": 4,
 "nbformat_minor": 0
}