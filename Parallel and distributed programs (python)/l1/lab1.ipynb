{
 "cells": [
  {
   "cell_type": "code",
   "execution_count": 17,
   "metadata": {
    "collapsed": true,
    "pycharm": {
     "name": "#%%\n"
    }
   },
   "outputs": [],
   "source": [
    "import multiprocessing as mp\n",
    "import numpy as np\n",
    "import ctypes\n",
    "import random\n",
    "import seaborn as sns\n",
    "import pandas as pd\n",
    "import time"
   ]
  },
  {
   "cell_type": "markdown",
   "source": [
    "#### Функция создания общей матрицы, заполненной случайными значениями"
   ],
   "metadata": {
    "collapsed": false,
    "pycharm": {
     "name": "#%% md\n"
    }
   }
  },
  {
   "cell_type": "code",
   "execution_count": 18,
   "outputs": [],
   "source": [
    "def create_matrix ():\n",
    "    mp_matrix = mp.Array('i', dimension ** 2)\n",
    "    matrix = np.frombuffer(mp_matrix.get_obj(), ctypes.c_int).reshape(dimension, dimension)\n",
    "    for i in range(dimension):\n",
    "        for j in range(dimension):\n",
    "            matrix[i][j] = random.randint(0, 500)\n",
    "    return matrix\n"
   ],
   "metadata": {
    "collapsed": false,
    "pycharm": {
     "name": "#%%\n"
    }
   }
  },
  {
   "cell_type": "markdown",
   "source": [
    "#### Функции для обычного перемножения двух матриц:"
   ],
   "metadata": {
    "collapsed": false,
    "pycharm": {
     "name": "#%% md\n"
    }
   }
  },
  {
   "cell_type": "code",
   "execution_count": 19,
   "outputs": [],
   "source": [
    "def mul_rows():\n",
    "    C = np.zeros(dimension**2, ctypes.c_int).reshape(dimension, dimension)\n",
    "    for i in range(dimension):\n",
    "        for j in range(dimension):\n",
    "            for k in range(dimension):\n",
    "                C[i][j] += A[i][k] * B[k][j]\n",
    "    return C\n",
    "def mul_columns():\n",
    "    C = np.zeros(dimension**2).reshape(dimension, dimension)\n",
    "    for i in range(dimension):\n",
    "        for j in range(dimension):\n",
    "            for k in range(dimension):\n",
    "                C[j][i] += A[j][k] * B[k][i]\n",
    "    return C"
   ],
   "metadata": {
    "collapsed": false,
    "pycharm": {
     "name": "#%%\n"
    }
   }
  },
  {
   "cell_type": "markdown",
   "source": [
    "#### Подсчет времени непараллельного перемножения: по строкам и по столбцам"
   ],
   "metadata": {
    "collapsed": false,
    "pycharm": {
     "name": "#%% md\n"
    }
   }
  },
  {
   "cell_type": "code",
   "execution_count": 20,
   "outputs": [
    {
     "name": "stdout",
     "output_type": "stream",
     "text": [
      "По строкам: 5.657637357711792\n",
      "По столбцам: 8.043640851974487\n"
     ]
    }
   ],
   "source": [
    "dimension = 200\n",
    "A = create_matrix()\n",
    "B = create_matrix()\n",
    "\n",
    "time_start = time.time()\n",
    "C = mul_rows()\n",
    "time_rows = time.time() - time_start\n",
    "print(\"По строкам:\", time_rows)\n",
    "\n",
    "time_start = time.time()\n",
    "H = mul_columns()\n",
    "time_columns = time.time() - time_start\n",
    "print(\"По столбцам:\", time_columns)"
   ],
   "metadata": {
    "collapsed": false,
    "pycharm": {
     "name": "#%%\n"
    }
   }
  },
  {
   "cell_type": "markdown",
   "source": [
    "#### Функция для многопоточного подсчета (каждый процесс считает last_row - first_row + 1 элементов итоговой матрицы)"
   ],
   "metadata": {
    "collapsed": false,
    "pycharm": {
     "name": "#%% md\n"
    }
   }
  },
  {
   "cell_type": "code",
   "execution_count": 21,
   "outputs": [],
   "source": [
    "def mul_process(first_row, last_row):\n",
    "    for i in range (first_row, last_row + 1):\n",
    "        for j in range (dimension):\n",
    "            for k in range(dimension):\n",
    "                D[i][j] += A[i][k] * B[k][j]"
   ],
   "metadata": {
    "collapsed": false,
    "pycharm": {
     "name": "#%%\n"
    }
   }
  },
  {
   "cell_type": "markdown",
   "source": [
    "#### Многопоточность достигиается посредством использования структуры multiprocessing.Pool и использования метода starmap_async"
   ],
   "metadata": {
    "collapsed": false,
    "pycharm": {
     "name": "#%% md\n"
    }
   }
  },
  {
   "cell_type": "code",
   "execution_count": 22,
   "outputs": [
    {
     "name": "stdout",
     "output_type": "stream",
     "text": [
      "Подсчет верный\n",
      "Подсчет верный\n",
      "Подсчет верный\n",
      "Подсчет верный\n",
      "Подсчет верный\n",
      "Подсчет верный\n",
      "Подсчет верный\n",
      "Подсчет верный\n",
      "Подсчет верный\n",
      "Подсчет верный\n",
      "Подсчет верный\n",
      "Подсчет верный\n",
      "Подсчет верный\n",
      "Подсчет верный\n",
      "Подсчет верный\n"
     ]
    },
    {
     "data": {
      "text/plain": "[7.625363349914551,\n 4.542879819869995,\n 3.289067029953003,\n 2.6000020503997803,\n 2.4585812091827393,\n 2.134124517440796,\n 2.1301991939544678,\n 1.9272851943969727,\n 1.8360099792480469,\n 1.8792986869812012,\n 1.7924470901489258,\n 1.9398303031921387,\n 1.7918751239776611,\n 1.895536184310913,\n 1.9732191562652588]"
     },
     "execution_count": 22,
     "metadata": {},
     "output_type": "execute_result"
    }
   ],
   "source": [
    "times = []\n",
    "index_list = []\n",
    "base_times = [time_rows] * 15\n",
    "for proc_num in range (1, 16):\n",
    "    index_list.append(proc_num)\n",
    "    D = mp.Array('i',dimension**2)\n",
    "    D = np.frombuffer(D.get_obj(), ctypes.c_int).reshape(dimension, dimension)\n",
    "    part = dimension // proc_num\n",
    "    remainder = dimension % proc_num\n",
    "    args = []\n",
    "    for i in range (0, dimension, part):\n",
    "        if (i + part - 1) < dimension:\n",
    "            args.append([i, i + (part-1)])\n",
    "    args[-1][1]  += remainder\n",
    "    time_start = time.time()\n",
    "    pool = mp.Pool(proc_num)\n",
    "    pool.starmap_async(mul_process, args)\n",
    "    pool.close()\n",
    "    pool.join()\n",
    "    times.append(time.time() - time_start)\n",
    "    if np.array_equal(C, D):\n",
    "        print(\"Подсчет верный\")\n",
    "    else:\n",
    "        print(\"Подсчет неверный\")\n",
    "times\n"
   ],
   "metadata": {
    "collapsed": false,
    "pycharm": {
     "name": "#%%\n"
    }
   }
  },
  {
   "cell_type": "code",
   "execution_count": 31,
   "outputs": [
    {
     "ename": "AttributeError",
     "evalue": "module 'seaborn' has no attribute 'set'",
     "output_type": "error",
     "traceback": [
      "\u001B[0;31m---------------------------------------------------------------------------\u001B[0m",
      "\u001B[0;31mAttributeError\u001B[0m                            Traceback (most recent call last)",
      "Input \u001B[0;32mIn [31]\u001B[0m, in \u001B[0;36m<cell line: 5>\u001B[0;34m()\u001B[0m\n\u001B[1;32m      1\u001B[0m df \u001B[38;5;241m=\u001B[39m pd\u001B[38;5;241m.\u001B[39mDataFrame({\n\u001B[1;32m      2\u001B[0m     \u001B[38;5;124m'\u001B[39m\u001B[38;5;124m'\u001B[39m: times,\n\u001B[1;32m      3\u001B[0m }, index \u001B[38;5;241m=\u001B[39m index_list)\n\u001B[0;32m----> 5\u001B[0m \u001B[43msns\u001B[49m\u001B[38;5;241;43m.\u001B[39;49m\u001B[43mset\u001B[49m (rc\u001B[38;5;241m=\u001B[39m{\u001B[38;5;124m'\u001B[39m\u001B[38;5;124mfigure.figsize\u001B[39m\u001B[38;5;124m'\u001B[39m:( \u001B[38;5;241m12\u001B[39m , \u001B[38;5;241m12\u001B[39m )})\n\u001B[1;32m      6\u001B[0m plot \u001B[38;5;241m=\u001B[39m sns\u001B[38;5;241m.\u001B[39mlineplot(data\u001B[38;5;241m=\u001B[39mdf)\n\u001B[1;32m      7\u001B[0m plot\u001B[38;5;241m.\u001B[39mset(xlabel \u001B[38;5;241m=\u001B[39m \u001B[38;5;124m\"\u001B[39m\u001B[38;5;124mКоличество потоков\u001B[39m\u001B[38;5;124m\"\u001B[39m,\n\u001B[1;32m      8\u001B[0m         ylabel\u001B[38;5;241m=\u001B[39m \u001B[38;5;124m\"\u001B[39m\u001B[38;5;124mВремя вычисления (с.)\u001B[39m\u001B[38;5;124m\"\u001B[39m)\n",
      "\u001B[0;31mAttributeError\u001B[0m: module 'seaborn' has no attribute 'set'"
     ]
    }
   ],
   "source": [
    "df = pd.DataFrame({\n",
    "    '': times,\n",
    "}, index = index_list)\n",
    "\n",
    "sns.set (rc={'figure.figsize':( 12 , 12 )})\n",
    "plot = sns.lineplot(data=df)\n",
    "plot.set(xlabel = \"Количество потоков\",\n",
    "        ylabel= \"Время вычисления (с.)\")\n",
    "df"
   ],
   "metadata": {
    "collapsed": false,
    "pycharm": {
     "name": "#%%\n"
    }
   }
  },
  {
   "cell_type": "code",
   "execution_count": null,
   "outputs": [],
   "source": [],
   "metadata": {
    "collapsed": false,
    "pycharm": {
     "name": "#%%\n"
    }
   }
  }
 ],
 "metadata": {
  "kernelspec": {
   "display_name": "Python 3",
   "language": "python",
   "name": "python3"
  },
  "language_info": {
   "codemirror_mode": {
    "name": "ipython",
    "version": 2
   },
   "file_extension": ".py",
   "mimetype": "text/x-python",
   "name": "python",
   "nbconvert_exporter": "python",
   "pygments_lexer": "ipython2",
   "version": "2.7.6"
  }
 },
 "nbformat": 4,
 "nbformat_minor": 0
}