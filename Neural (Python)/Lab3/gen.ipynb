{
 "nbformat": 4,
 "nbformat_minor": 0,
 "metadata": {
  "colab": {
   "provenance": []
  },
  "kernelspec": {
   "name": "python3",
   "display_name": "Python 3"
  },
  "language_info": {
   "name": "python"
  }
 },
 "cells": [
  {
   "cell_type": "code",
   "execution_count": 1,
   "metadata": {
    "id": "h5FWeCev0B0j",
    "pycharm": {
     "name": "#%%\n"
    }
   },
   "outputs": [],
   "source": [
    "import numpy as np\n",
    "import matplotlib.pyplot as plt\n",
    "import torchvision\n",
    "from tqdm import tqdm"
   ]
  },
  {
   "cell_type": "code",
   "source": [
    "MNIST_train = torchvision.datasets.MNIST('./', download=True, train=True)\n",
    "MNIST_test = torchvision.datasets.MNIST('./', download=True, train=False)"
   ],
   "metadata": {
    "colab": {
     "base_uri": "https://localhost:8080/"
    },
    "id": "EEW6iq8r0EET",
    "outputId": "438ce112-5370-4833-d639-77d035349510",
    "pycharm": {
     "name": "#%%\n"
    }
   },
   "execution_count": 2,
   "outputs": [
    {
     "output_type": "stream",
     "name": "stdout",
     "text": [
      "Downloading http://yann.lecun.com/exdb/mnist/train-images-idx3-ubyte.gz\n",
      "Downloading http://yann.lecun.com/exdb/mnist/train-images-idx3-ubyte.gz to ./MNIST/raw/train-images-idx3-ubyte.gz\n"
     ]
    },
    {
     "output_type": "stream",
     "name": "stderr",
     "text": [
      "100%|██████████| 9912422/9912422 [00:00<00:00, 104728142.85it/s]\n"
     ]
    },
    {
     "output_type": "stream",
     "name": "stdout",
     "text": [
      "Extracting ./MNIST/raw/train-images-idx3-ubyte.gz to ./MNIST/raw\n",
      "\n",
      "Downloading http://yann.lecun.com/exdb/mnist/train-labels-idx1-ubyte.gz\n",
      "Downloading http://yann.lecun.com/exdb/mnist/train-labels-idx1-ubyte.gz to ./MNIST/raw/train-labels-idx1-ubyte.gz\n"
     ]
    },
    {
     "output_type": "stream",
     "name": "stderr",
     "text": [
      "100%|██████████| 28881/28881 [00:00<00:00, 79485363.40it/s]"
     ]
    },
    {
     "output_type": "stream",
     "name": "stdout",
     "text": [
      "Extracting ./MNIST/raw/train-labels-idx1-ubyte.gz to ./MNIST/raw\n",
      "\n",
      "Downloading http://yann.lecun.com/exdb/mnist/t10k-images-idx3-ubyte.gz\n",
      "Downloading http://yann.lecun.com/exdb/mnist/t10k-images-idx3-ubyte.gz to ./MNIST/raw/t10k-images-idx3-ubyte.gz\n"
     ]
    },
    {
     "output_type": "stream",
     "name": "stderr",
     "text": [
      "\n",
      "100%|██████████| 1648877/1648877 [00:00<00:00, 27010980.30it/s]\n"
     ]
    },
    {
     "output_type": "stream",
     "name": "stdout",
     "text": [
      "Extracting ./MNIST/raw/t10k-images-idx3-ubyte.gz to ./MNIST/raw\n",
      "\n",
      "Downloading http://yann.lecun.com/exdb/mnist/t10k-labels-idx1-ubyte.gz\n",
      "Downloading http://yann.lecun.com/exdb/mnist/t10k-labels-idx1-ubyte.gz to ./MNIST/raw/t10k-labels-idx1-ubyte.gz\n"
     ]
    },
    {
     "output_type": "stream",
     "name": "stderr",
     "text": [
      "100%|██████████| 4542/4542 [00:00<00:00, 13359417.09it/s]"
     ]
    },
    {
     "output_type": "stream",
     "name": "stdout",
     "text": [
      "Extracting ./MNIST/raw/t10k-labels-idx1-ubyte.gz to ./MNIST/raw\n",
      "\n"
     ]
    },
    {
     "output_type": "stream",
     "name": "stderr",
     "text": [
      "\n"
     ]
    }
   ]
  },
  {
   "cell_type": "code",
   "source": [
    "count = 1200\n",
    "count_test = 200\n",
    "\n",
    "train_X = MNIST_train.data.numpy()[:count]\n",
    "train_Y = MNIST_train.targets.numpy()[:count]\n",
    "test_X = MNIST_test.data.numpy()[:count_test]\n",
    "test_Y = MNIST_test.targets.numpy()[:count_test]\n",
    "\n",
    "print('X_train: ' + str(train_X.shape))\n",
    "print('Y_train: ' + str(train_Y.shape))\n",
    "print('X_test:  '  + str(test_X.shape))\n",
    "print('Y_test:  '  + str(test_Y.shape))"
   ],
   "metadata": {
    "colab": {
     "base_uri": "https://localhost:8080/"
    },
    "id": "tCFFuYTD0FEJ",
    "outputId": "b178a7eb-8679-4de0-d1d1-fdde54a38884",
    "pycharm": {
     "name": "#%%\n"
    }
   },
   "execution_count": 3,
   "outputs": [
    {
     "output_type": "stream",
     "name": "stdout",
     "text": [
      "X_train: (1200, 28, 28)\n",
      "Y_train: (1200,)\n",
      "X_test:  (200, 28, 28)\n",
      "Y_test:  (200,)\n"
     ]
    }
   ]
  },
  {
   "cell_type": "code",
   "source": [
    "for i in range(9):\n",
    "    plt.subplot(331 + i)\n",
    "    plt.imshow(train_X[i], cmap=plt.get_cmap('gray'))"
   ],
   "metadata": {
    "colab": {
     "base_uri": "https://localhost:8080/",
     "height": 433
    },
    "id": "qQ0MlD2g0F-q",
    "outputId": "8a6fac7a-3dbe-47a7-8083-4b8011080ec0",
    "pycharm": {
     "name": "#%%\n"
    }
   },
   "execution_count": 4,
   "outputs": [
    {
     "output_type": "display_data",
     "data": {
      "text/plain": [
       "<Figure size 640x480 with 9 Axes>"
      ],
      "image/png": "[encoded data removed]"
     },
     "metadata": {}
    }
   ]
  },
  {
   "cell_type": "code",
   "source": [
    "for i in range(6):\n",
    "    plt.subplot(331 + i)\n",
    "    plt.imshow(test_X[i], cmap=plt.get_cmap('gray'))"
   ],
   "metadata": {
    "colab": {
     "base_uri": "https://localhost:8080/",
     "height": 303
    },
    "id": "zFtmRwQH0G9F",
    "outputId": "6178eef4-8d2f-4615-c7f4-b15305a7a503",
    "pycharm": {
     "name": "#%%\n"
    }
   },
   "execution_count": 5,
   "outputs": [
    {
     "output_type": "display_data",
     "data": {
      "text/plain": [
       "<Figure size 640x480 with 6 Axes>"
      ],
      "image/png": "[encoded data removed]"
     },
     "metadata": {}
    }
   ]
  },
  {
   "cell_type": "code",
   "source": [
    "plt.hist(train_Y, bins=10, edgecolor='black')\n",
    "plt.show()"
   ],
   "metadata": {
    "colab": {
     "base_uri": "https://localhost:8080/",
     "height": 430
    },
    "id": "8LEjUuJy0IdJ",
    "outputId": "f8bd2ba8-8112-4453-ef8f-566b9cb9bac5",
    "pycharm": {
     "name": "#%%\n"
    }
   },
   "execution_count": 6,
   "outputs": [
    {
     "output_type": "display_data",
     "data": {
      "text/plain": [
       "<Figure size 640x480 with 1 Axes>"
      ],
      "image/png": "[encoded data removed]"
     },
     "metadata": {}
    }
   ]
  },
  {
   "cell_type": "code",
   "source": [
    "plt.hist(test_Y, bins=10, edgecolor='black')\n",
    "plt.show()"
   ],
   "metadata": {
    "colab": {
     "base_uri": "https://localhost:8080/",
     "height": 430
    },
    "id": "e_tnnE5B0JeK",
    "outputId": "272303eb-8fd2-46ed-cf59-ea1e81659b0f",
    "pycharm": {
     "name": "#%%\n"
    }
   },
   "execution_count": 7,
   "outputs": [
    {
     "output_type": "display_data",
     "data": {
      "text/plain": [
       "<Figure size 640x480 with 1 Axes>"
      ],
      "image/png": "[encoded data removed]"
     },
     "metadata": {}
    }
   ]
  },
  {
   "cell_type": "code",
   "source": [
    "train_X = np.array(list(map(lambda x: x.flatten() / 256, train_X)))\n",
    "\n",
    "train_Y = np.array([np.array([int(i == x) for i in range(10)]) for x in train_Y])\n",
    "test_X = np.array(list(map(lambda x: x.flatten() / 256, test_X)))\n",
    "test_Y = np.array([np.array([int(i == x) for i in range(10)]) for x in test_Y])"
   ],
   "metadata": {
    "id": "2nvmgLcJ0KuZ",
    "pycharm": {
     "name": "#%%\n"
    }
   },
   "execution_count": 8,
   "outputs": []
  },
  {
   "cell_type": "code",
   "source": [
    "print('X_train: ' + str(train_X.shape))\n",
    "print('Y_train: ' + str(train_Y.shape))\n",
    "print('X_test:  '  + str(test_X.shape))\n",
    "print('Y_test:  '  + str(test_Y.shape))"
   ],
   "metadata": {
    "colab": {
     "base_uri": "https://localhost:8080/"
    },
    "id": "-3B3F55x0L5Z",
    "outputId": "4c3f61ef-ae26-49d6-f13a-a091b789f81c",
    "pycharm": {
     "name": "#%%\n"
    }
   },
   "execution_count": 9,
   "outputs": [
    {
     "output_type": "stream",
     "name": "stdout",
     "text": [
      "X_train: (1200, 784)\n",
      "Y_train: (1200, 10)\n",
      "X_test:  (200, 784)\n",
      "Y_test:  (200, 10)\n"
     ]
    }
   ]
  },
  {
   "cell_type": "code",
   "source": [
    "def softmax(x):\n",
    "    if np.linalg.norm(x) < 0.001:\n",
    "        return np.zeros(len(x))\n",
    "    x = x / np.linalg.norm(x)\n",
    "    return np.exp(x) / (np.exp(x)).sum() if (np.exp(x)).sum() > 0.01 else np.zeros(len(x))\n",
    "\n",
    "\n",
    "def relu(x):\n",
    "    return np.maximum(0, x)\n",
    "\n",
    "def relu_derivative(x):\n",
    "    return np.where(x > 0, 1, 0)\n",
    "\n",
    "def sigmoid(x): return 1/(1+np.exp(-x))\n",
    "\n",
    "def sigmoid_derivative(x): return sigmoid(x)*(1-sigmoid(x))\n",
    "\n",
    "def cross_entropy(y_true, y_pred):\n",
    "    y_pred = np.clip(y_pred, 1e-8, 1 - 1e-8)\n",
    "    return -np.mean(y_true * np.log(y_pred))\n",
    "\n",
    "def cross_entropy_derivative(y_true, y_pred):\n",
    "    y_pred = np.clip(y_pred, 1e-8, 1 - 1e-8)\n",
    "    res = y_pred - y_true\n",
    "    return res / np.linalg.norm(res)\n"
   ],
   "metadata": {
    "id": "K8pTDHXw0NG9",
    "pycharm": {
     "name": "#%%\n"
    }
   },
   "execution_count": 10,
   "outputs": []
  },
  {
   "cell_type": "code",
   "source": [
    "class LinearLayer:\n",
    "    def __init__(self, input_size, output_size, optimizer, model):\n",
    "        self.nag_v = None\n",
    "        self.adam_m = None\n",
    "        self.adam_v = None\n",
    "        self.adam_t = None\n",
    "        self.adagrad_G = None\n",
    "        self.inputs = None\n",
    "        self.weights = np.random.rand(input_size + 1, output_size) - 0.5\n",
    "        self.optimizer = optimizer\n",
    "        self.model = model\n",
    "\n",
    "    def forward(self, inputs, train=True):\n",
    "        inputs = np.append([1], inputs)\n",
    "\n",
    "        if train:\n",
    "            self.inputs = inputs\n",
    "        return inputs @ self.weights\n",
    "\n",
    "    def calculate(self):\n",
    "        return self.model.calculate(self, self.inputs[:-1])\n",
    "\n",
    "    def backward(self, grad, train=True):\n",
    "        if not train:\n",
    "            return (grad @ self.weights.T)[1:]\n",
    "        accum_grad = (grad @ self.weights.T)[1:]\n",
    "        step_grad = np.outer(self.inputs, grad)\n",
    "        if np.linalg.norm(step_grad) != 0:\n",
    "            step_grad /= np.linalg.norm(step_grad)\n",
    "        step = None\n",
    "        match self.optimizer:\n",
    "            case 0:\n",
    "                # SGD\n",
    "                step = step_grad\n",
    "            case 1:\n",
    "                # NAG\n",
    "                if self.nag_v is None:\n",
    "                    self.nag_v = np.zeros(step_grad.shape)\n",
    "                self.weights -= self.model.gamma * self.nag_v\n",
    "\n",
    "                j = self.model.nag_helper(self, self.inputs[1:])\n",
    "                J = np.outer(self.inputs, j)\n",
    "                self.weights += self.model.gamma * self.nag_v\n",
    "                self.nag_v = self.model.gamma * self.nag_v + self.model.lr * J\n",
    "                step = self.nag_v\n",
    "            case 2:\n",
    "                # Adagrad\n",
    "                if self.adagrad_G is None:\n",
    "                    self.adagrad_G = np.zeros(self.weights.shape)\n",
    "                self.adagrad_G += step_grad**2\n",
    "                step = self.model.lr / np.sqrt(self.adagrad_G+10e-6) * step_grad\n",
    "            case 3:\n",
    "                # Adam\n",
    "                if self.adam_t is None:\n",
    "                    self.adam_t = 0\n",
    "                    self.adam_m = np.zeros(self.weights.shape)\n",
    "                    self.adam_v = np.zeros(self.weights.shape)\n",
    "                self.adam_t += 1\n",
    "                self.adam_m = self.model.beta1 * self.adam_m + (1 - self.model.beta1) * step_grad\n",
    "                self.adam_v = self.model.beta2 * self.adam_v + (1 - self.model.beta2) * step_grad**2\n",
    "                m = self.adam_m / (1 - self.model.beta1**self.adam_t)\n",
    "                v = self.adam_v / (1 - self.model.beta2**self.adam_t)\n",
    "                step = self.model.lr * m / np.sqrt(v + 10e-8)\n",
    "\n",
    "\n",
    "        self.weights -= step\n",
    "\n",
    "        return accum_grad\n"
   ],
   "metadata": {
    "id": "5g3ZyhmO0OKe",
    "pycharm": {
     "name": "#%%\n"
    }
   },
   "execution_count": 11,
   "outputs": []
  },
  {
   "cell_type": "code",
   "source": [
    "class ActivationLayer:\n",
    "    def __init__(self, activation, activation_derivative):\n",
    "        self.inputs = None\n",
    "        self.activation = activation\n",
    "        self.activation_derivative = activation_derivative\n",
    "    def forward(self, inputs, train=True):\n",
    "        self.inputs = inputs\n",
    "        return self.activation(inputs)\n",
    "    def backward(self, grad, train=True):\n",
    "        return grad * self.activation_derivative(self.inputs)\n"
   ],
   "metadata": {
    "id": "pCO7HXdg0PIC",
    "pycharm": {
     "name": "#%%\n"
    }
   },
   "execution_count": 12,
   "outputs": []
  },
  {
   "cell_type": "code",
   "source": [
    "class Perceptron:\n",
    "    def __init__(self, input_size, sizes, loss, loss_derivative, optimizer, lr, gamma, beta1, beta2):\n",
    "        self.last_true = None\n",
    "        self.layers = []\n",
    "        self.beta1 = beta1\n",
    "        self.beta2 = beta2\n",
    "        self.gamma = gamma\n",
    "        prev_size = input_size\n",
    "        for size in sizes:\n",
    "            self.layers.append(LinearLayer(prev_size, size, optimizer, self))\n",
    "            self.layers.append(ActivationLayer(sigmoid, sigmoid_derivative))\n",
    "            prev_size = size\n",
    "        self.layers.append(LinearLayer(prev_size, 10, optimizer, self))\n",
    "        self.layers.append(ActivationLayer(softmax, lambda x: softmax(x) * (1 - softmax(x))))\n",
    "        self.loss = loss\n",
    "        self.loss_derivative = loss_derivative\n",
    "        self.lr = lr\n",
    "\n",
    "    def forward(self, inputs, train=True):\n",
    "        result = inputs\n",
    "        for layer in self.layers:\n",
    "            result = layer.forward(result, train)\n",
    "        return result\n",
    "\n",
    "    def backward(self, y_true, y_pred):\n",
    "        grad = self.loss_derivative(y_true, y_pred)\n",
    "        for layer in self.layers[::-1]:\n",
    "            grad = layer.backward(grad)\n",
    "\n",
    "    def fit(self, inputs, y_true):\n",
    "        self.last_true = y_true\n",
    "        y_pred = self.forward(inputs, True)\n",
    "        loss = self.loss(y_true, y_pred)\n",
    "        self.backward(y_true, y_pred)\n",
    "        return y_pred, loss\n",
    "\n",
    "    def calculate(self, layer, inputs):\n",
    "        place = self.layers.index(layer)\n",
    "        result = inputs\n",
    "        for layer in self.layers[place:]:\n",
    "            result = layer.forward(result, False)\n",
    "        return self.loss(self.last_true, result)\n",
    "\n",
    "    def nag_helper(self, layer, inputs):\n",
    "        place = self.layers.index(layer)\n",
    "        result = inputs\n",
    "        for layer in self.layers[place:]:\n",
    "            result = layer.forward(result, False)\n",
    "        grad = self.loss_derivative(self.last_true, result)\n",
    "        for layer in self.layers[place + 1:][::-1]:\n",
    "            grad = layer.backward(grad, False)\n",
    "        return grad\n",
    "\n",
    "    def train(self, epochs):\n",
    "        accuracy = []\n",
    "        loss_arr = []\n",
    "        for _ in range(epochs):\n",
    "            running_accuracy = 0\n",
    "            running_loss = 0\n",
    "            for inputs, y_true in zip(train_X, train_Y):\n",
    "                y_pred, loss = self.fit(inputs, y_true)\n",
    "                pred = np.argmax(y_pred)\n",
    "                running_loss += loss\n",
    "                running_accuracy += (np.argmax(y_true) == pred)\n",
    "            accuracy.append(running_accuracy / len(train_X))\n",
    "            loss_arr.append(running_loss / len(train_X))\n",
    "        return accuracy, loss_arr\n",
    "\n",
    "    def validate(self):\n",
    "        running_accuracy = 0\n",
    "        running_loss = 0\n",
    "        for inputs, y_true in zip(test_X, test_Y):\n",
    "            y_pred = self.forward(inputs, False)\n",
    "            loss = self.loss(y_true, y_pred)\n",
    "            pred = np.argmax(y_pred)\n",
    "            running_loss += loss\n",
    "            running_accuracy += (np.argmax(y_true) == pred)\n",
    "        return running_loss / len(test_X), running_accuracy / len(test_X)"
   ],
   "metadata": {
    "id": "Xef7T9h40Qdu",
    "pycharm": {
     "name": "#%%\n"
    }
   },
   "execution_count": 13,
   "outputs": []
  },
  {
   "cell_type": "code",
   "source": [
    "class Individual:\n",
    "    def __init__(self, num_hidden_layers, num_neurons):\n",
    "        self.num_hidden_layers = num_hidden_layers\n",
    "        self.num_neurons = num_neurons\n",
    "\n",
    "def evaluate_individual(individual, loss, loss_der, optimizer, learning_rate, gamma, beta1, beta2):\n",
    "    perceptron = Perceptron(28 * 28, [individual.num_neurons for _ in range(individual.num_hidden_layers)], loss, loss_der, optimizer, learning_rate, gamma, beta1, beta2)\n",
    "\n",
    "    accuracy, loss = perceptron.train(5)\n",
    "\n",
    "    return accuracy[-1], loss[-1]\n",
    "\n",
    "\n",
    "def genetic_algorithm(population_size, generations, loss, loss_der, optimizer, learning_rate, gamma, beta1, beta2):\n",
    "    best_individual = None\n",
    "    population = [Individual(num_hidden_layers=np.random.randint(1, 4), num_neurons=np.random.randint(16, 256)) for _ in range(population_size)]\n",
    "    for generation in tqdm(range(generations)):\n",
    "        fitness = np.array([evaluate_individual(individual, loss, loss_der, optimizer, learning_rate, gamma, beta1, beta2) for individual in population], dtype=[(\"first\", float), (\"second\", float)])\n",
    "\n",
    "        # отбор лучших (по лоссу)\n",
    "        sorted_indices = np.argsort(fitness, order='second')\n",
    "        population = [population[i] for i in sorted_indices]\n",
    "        elite = population[:int(0.2 * population_size)]\n",
    "\n",
    "        # кроссовер\n",
    "        offspring = []\n",
    "        for _ in range(int(0.8*population_size)):\n",
    "            parent1 = np.random.choice(elite)\n",
    "            parent2 = np.random.choice(elite)\n",
    "            child = Individual(\n",
    "                num_hidden_layers=np.random.choice([parent1.num_hidden_layers, parent2.num_hidden_layers]),\n",
    "                num_neurons=np.random.choice([parent1.num_neurons, parent2.num_neurons])\n",
    "            )\n",
    "            offspring.append(child)\n",
    "\n",
    "        # мутации\n",
    "        for child in offspring:\n",
    "            if np.random.rand() < 0.15:\n",
    "                child.num_hidden_layers = np.random.randint(1, 4)\n",
    "            if np.random.rand() < 0.15:\n",
    "                child.num_neurons = np.random.randint(16, 256)\n",
    "\n",
    "        population = elite + offspring\n",
    "\n",
    "        best_individual = population[0]\n",
    "        print(f\"Generation {generation + 1}, Best accuracy: {fitness[0][0]}, Best_loss: {fitness[0][1]}\")\n",
    "\n",
    "    return best_individual\n"
   ],
   "metadata": {
    "id": "3Zy1A5go0Szq",
    "pycharm": {
     "name": "#%%\n"
    }
   },
   "execution_count": 29,
   "outputs": []
  },
  {
   "cell_type": "code",
   "source": [
    "best = genetic_algorithm(25, 5, cross_entropy, cross_entropy_derivative, 3, 0.0065, None, 0.9, 0.999)\n",
    "\n",
    "print(best.num_neurons)\n",
    "print(best.num_hidden_layers)"
   ],
   "metadata": {
    "colab": {
     "base_uri": "https://localhost:8080/"
    },
    "id": "sLDJTray0UJl",
    "outputId": "a11e0179-a683-4411-da2e-56227c7d8e2b",
    "pycharm": {
     "name": "#%%\n"
    }
   },
   "execution_count": 31,
   "outputs": [
    {
     "output_type": "stream",
     "name": "stderr",
     "text": [
      " 20%|██        | 1/5 [09:46<39:06, 586.61s/it]"
     ]
    },
    {
     "output_type": "stream",
     "name": "stdout",
     "text": [
      "Generation 1, Best accuracy: 0.8566666666666667, Best_loss: 0.17229217007572528\n"
     ]
    },
    {
     "output_type": "stream",
     "name": "stderr",
     "text": [
      "\r 40%|████      | 2/5 [28:22<44:53, 897.96s/it]"
     ]
    },
    {
     "output_type": "stream",
     "name": "stdout",
     "text": [
      "Generation 2, Best accuracy: 0.9058333333333334, Best_loss: 0.1680141664655133\n"
     ]
    },
    {
     "output_type": "stream",
     "name": "stderr",
     "text": [
      "\r 60%|██████    | 3/5 [46:52<33:09, 994.83s/it]"
     ]
    },
    {
     "output_type": "stream",
     "name": "stdout",
     "text": [
      "Generation 3, Best accuracy: 0.905, Best_loss: 0.16676037878158181\n"
     ]
    },
    {
     "output_type": "stream",
     "name": "stderr",
     "text": [
      "\r 80%|████████  | 4/5 [1:07:22<18:07, 1087.74s/it]"
     ]
    },
    {
     "output_type": "stream",
     "name": "stdout",
     "text": [
      "Generation 4, Best accuracy: 0.8941666666666667, Best_loss: 0.1650570496055571\n"
     ]
    },
    {
     "output_type": "stream",
     "name": "stderr",
     "text": [
      "100%|██████████| 5/5 [1:27:04<00:00, 1044.90s/it]"
     ]
    },
    {
     "output_type": "stream",
     "name": "stdout",
     "text": [
      "Generation 5, Best accuracy: 0.905, Best_loss: 0.16816305009968982\n",
      "248\n",
      "2\n"
     ]
    },
    {
     "output_type": "stream",
     "name": "stderr",
     "text": [
      "\n"
     ]
    }
   ]
  }
 ]
}